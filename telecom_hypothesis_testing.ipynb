{
 "cells": [
  {
   "cell_type": "markdown",
   "metadata": {},
   "source": [
    "# Which one is a better plan?\n",
    "\n",
    "You work as an analyst for the telecom operator Megaline. The company offers its clients two prepaid plans, Surf and Ultimate. The commercial department wants to know which of the plans brings in more revenue in order to adjust the advertising budget.\n",
    "\n",
    "You are going to carry out a preliminary analysis of the plans based on a relatively small client selection. You'll have the data on 500 Megaline clients: who the clients are, where they're from, which plan they use, and the number of calls they made and text messages they sent in 2018. Your job is to analyze the clients' behavior and determine which prepaid plan brings in more revenue."
   ]
  },
  {
   "cell_type": "markdown",
   "metadata": {},
   "source": [
    "Throughout this project, I plan to import the data and take a preliminary look at it. After that, I will work on cleaning up data by removing or filling any null values, make sure the data types are appropriate for future analysis, and confirm the data is ready to go. \n",
    "\n",
    "Once I am ready to analyze, I may need to create some aggregate data to make sense of things, so we'll see when we get there. \n",
    "\n",
    "I will aggregate user data, study the plan conditions, study the user behavior for calls, messages and internet behavior, analyze revnue per user, and finally, test some statistical hypotheses with the data we've generated. \n",
    "\n",
    "Once we are finished with that, we can determine which plan is better for the company, and finalize our conclusions. \n",
    "\n",
    "\n",
    "Below is the data we are working with:\n",
    "\n",
    "The **users** table (data on users):\n",
    "\n",
    "    user_id — unique user identifier\n",
    "    first_name — user's name\n",
    "    last_name — user's last name\n",
    "    age — user's age (years)\n",
    "    reg_date — subscription date (dd, mm, yy)\n",
    "    churn_date — the date the user stopped using the service (if the value is missing, the calling plan was being used when this database was extracted)\n",
    "    city — user's city of residence\n",
    "    plan — calling plan name\n",
    "\n",
    "The **calls** table (data on calls):\n",
    "\n",
    "    id — unique call identifier\n",
    "    call_date — call date\n",
    "    duration — call duration (in minutes)\n",
    "    user_id — the identifier of the user making the call\n",
    "\n",
    "The **messages** table (data on texts):\n",
    "\n",
    "    id — unique text message identifier\n",
    "    message_date — text message date\n",
    "    user_id — the identifier of the user sending the text\n",
    "\n",
    "The **internet** table (data on web sessions):\n",
    "\n",
    "    id — unique session identifier\n",
    "    mb_used — the volume of data spent during the session (in megabytes)\n",
    "    session_date — web session date\n",
    "    user_id — user identifier\n",
    "\n",
    "The **plans** table (data on the plans):\n",
    "\n",
    "    plan_name — calling plan name\n",
    "    usd_monthly_fee — monthly charge in US dollars\n",
    "    minutes_included — monthly minute allowance\n",
    "    messages_included — monthly text allowance\n",
    "    mb_per_month_included — data volume allowance (in megabytes)\n",
    "    usd_per_minute — price per minute after exceeding the package limits (e.g., if the package includes 100 minutes, the 101st minute will be charged)\n",
    "    usd_per_message — price per text after exceeding the package limits\n",
    "    usd_per_gb — price per extra gigabyte of data after exceeding the package limits (1 GB = 1024 megabytes)"
   ]
  },
  {
   "cell_type": "markdown",
   "metadata": {},
   "source": [
    "[We've provided you with some commentary to guide your thinking as you complete this project. However, make sure to remove all the bracketed comments before submitting your project.]\n",
    "\n",
    "[Before you dive into analyzing your data, explain for yourself the purpose of the project and actions you plan to take.]\n",
    "\n",
    "[Please bear in mind that studying, amending, and analyzing data is an iterative process. It is normal to return to previous steps and correct/expand them to allow for further steps.]"
   ]
  },
  {
   "cell_type": "markdown",
   "metadata": {},
   "source": [
    "## Initialization"
   ]
  },
  {
   "cell_type": "markdown",
   "metadata": {},
   "source": []
  },
  {
   "cell_type": "code",
   "execution_count": 1,
   "metadata": {},
   "outputs": [],
   "source": [
    "# Loading all the libraries\n",
    "# we will go ahead and import all of the libraries that I think I'll need\n",
    "# We can always come back and remove the library if we don't use it\n",
    "\n",
    "import pandas as pd\n",
    "import matplotlib.pyplot as plt\n",
    "from scipy import stats as st\n",
    "import numpy as np\n",
    "import math\n",
    "import seaborn as sns\n",
    "\n"
   ]
  },
  {
   "cell_type": "markdown",
   "metadata": {},
   "source": [
    "## Load data"
   ]
  },
  {
   "cell_type": "code",
   "execution_count": 2,
   "metadata": {},
   "outputs": [
    {
     "name": "stdout",
     "output_type": "stream",
     "text": [
      "calls\n",
      "<class 'pandas.core.frame.DataFrame'>\n",
      "RangeIndex: 137735 entries, 0 to 137734\n",
      "Data columns (total 4 columns):\n",
      " #   Column     Non-Null Count   Dtype  \n",
      "---  ------     --------------   -----  \n",
      " 0   id         137735 non-null  object \n",
      " 1   user_id    137735 non-null  int64  \n",
      " 2   call_date  137735 non-null  object \n",
      " 3   duration   137735 non-null  float64\n",
      "dtypes: float64(1), int64(1), object(2)\n",
      "memory usage: 4.2+ MB\n",
      "\n",
      "internet\n",
      "<class 'pandas.core.frame.DataFrame'>\n",
      "RangeIndex: 104825 entries, 0 to 104824\n",
      "Data columns (total 4 columns):\n",
      " #   Column        Non-Null Count   Dtype  \n",
      "---  ------        --------------   -----  \n",
      " 0   id            104825 non-null  object \n",
      " 1   user_id       104825 non-null  int64  \n",
      " 2   session_date  104825 non-null  object \n",
      " 3   mb_used       104825 non-null  float64\n",
      "dtypes: float64(1), int64(1), object(2)\n",
      "memory usage: 3.2+ MB\n",
      "\n",
      "messages\n",
      "<class 'pandas.core.frame.DataFrame'>\n",
      "RangeIndex: 76051 entries, 0 to 76050\n",
      "Data columns (total 3 columns):\n",
      " #   Column        Non-Null Count  Dtype \n",
      "---  ------        --------------  ----- \n",
      " 0   id            76051 non-null  object\n",
      " 1   user_id       76051 non-null  int64 \n",
      " 2   message_date  76051 non-null  object\n",
      "dtypes: int64(1), object(2)\n",
      "memory usage: 1.7+ MB\n",
      "\n",
      "plans\n",
      "<class 'pandas.core.frame.DataFrame'>\n",
      "RangeIndex: 2 entries, 0 to 1\n",
      "Data columns (total 8 columns):\n",
      " #   Column                 Non-Null Count  Dtype  \n",
      "---  ------                 --------------  -----  \n",
      " 0   messages_included      2 non-null      int64  \n",
      " 1   mb_per_month_included  2 non-null      int64  \n",
      " 2   minutes_included       2 non-null      int64  \n",
      " 3   usd_monthly_pay        2 non-null      int64  \n",
      " 4   usd_per_gb             2 non-null      int64  \n",
      " 5   usd_per_message        2 non-null      float64\n",
      " 6   usd_per_minute         2 non-null      float64\n",
      " 7   plan_name              2 non-null      object \n",
      "dtypes: float64(2), int64(5), object(1)\n",
      "memory usage: 256.0+ bytes\n",
      "\n",
      "users\n",
      "<class 'pandas.core.frame.DataFrame'>\n",
      "RangeIndex: 500 entries, 0 to 499\n",
      "Data columns (total 8 columns):\n",
      " #   Column      Non-Null Count  Dtype \n",
      "---  ------      --------------  ----- \n",
      " 0   user_id     500 non-null    int64 \n",
      " 1   first_name  500 non-null    object\n",
      " 2   last_name   500 non-null    object\n",
      " 3   age         500 non-null    int64 \n",
      " 4   city        500 non-null    object\n",
      " 5   reg_date    500 non-null    object\n",
      " 6   plan        500 non-null    object\n",
      " 7   churn_date  34 non-null     object\n",
      "dtypes: int64(2), object(6)\n",
      "memory usage: 31.4+ KB\n"
     ]
    }
   ],
   "source": [
    "# Load the data files into different DataFrames\n",
    "calls = pd.read_csv('/datasets/megaline_calls.csv')\n",
    "print(\"calls\")\n",
    "calls.info()\n",
    "print()\n",
    "\n",
    "internet = pd.read_csv('/datasets/megaline_internet.csv')\n",
    "print(\"internet\")\n",
    "internet.info()\n",
    "print()\n",
    "\n",
    "messages = pd.read_csv('/datasets/megaline_messages.csv')\n",
    "print(\"messages\")\n",
    "messages.info()\n",
    "print()\n",
    "\n",
    "plans = pd.read_csv('/datasets/megaline_plans.csv')\n",
    "print(\"plans\")\n",
    "plans.info()\n",
    "print()\n",
    "\n",
    "users = pd.read_csv('/datasets/megaline_users.csv')\n",
    "print(\"users\")\n",
    "users.info()\n"
   ]
  },
  {
   "cell_type": "markdown",
   "metadata": {},
   "source": [
    "**Observations**\n",
    "Initially looking at the tables here, I don't see any missing values. The only thing I see is 'churn_date' in `users`, and that makes sense to not have values in every row, unless every single customer in the sample had churned. \n",
    "\n",
    "I can see some data types that should be cleaned up, like 'call_date' in `calls` should be a datetime, 'session_date' in `internet` should be a datetime, etc. We will clean all of these up in the individual section for each table."
   ]
  },
  {
   "cell_type": "markdown",
   "metadata": {},
   "source": [
    "## Prepare the data"
   ]
  },
  {
   "cell_type": "markdown",
   "metadata": {},
   "source": [
    "[The data for this project is split into several tables. Explore each one to get an initial understanding of the data. Do necessary corrections to each table if necessary.]"
   ]
  },
  {
   "cell_type": "markdown",
   "metadata": {},
   "source": [
    "## Plans"
   ]
  },
  {
   "cell_type": "code",
   "execution_count": 3,
   "metadata": {},
   "outputs": [
    {
     "name": "stdout",
     "output_type": "stream",
     "text": [
      "<class 'pandas.core.frame.DataFrame'>\n",
      "RangeIndex: 2 entries, 0 to 1\n",
      "Data columns (total 8 columns):\n",
      " #   Column                 Non-Null Count  Dtype  \n",
      "---  ------                 --------------  -----  \n",
      " 0   messages_included      2 non-null      int64  \n",
      " 1   mb_per_month_included  2 non-null      int64  \n",
      " 2   minutes_included       2 non-null      int64  \n",
      " 3   usd_monthly_pay        2 non-null      int64  \n",
      " 4   usd_per_gb             2 non-null      int64  \n",
      " 5   usd_per_message        2 non-null      float64\n",
      " 6   usd_per_minute         2 non-null      float64\n",
      " 7   plan_name              2 non-null      object \n",
      "dtypes: float64(2), int64(5), object(1)\n",
      "memory usage: 256.0+ bytes\n",
      "\n"
     ]
    },
    {
     "data": {
      "text/html": [
       "<div>\n",
       "<style scoped>\n",
       "    .dataframe tbody tr th:only-of-type {\n",
       "        vertical-align: middle;\n",
       "    }\n",
       "\n",
       "    .dataframe tbody tr th {\n",
       "        vertical-align: top;\n",
       "    }\n",
       "\n",
       "    .dataframe thead th {\n",
       "        text-align: right;\n",
       "    }\n",
       "</style>\n",
       "<table border=\"1\" class=\"dataframe\">\n",
       "  <thead>\n",
       "    <tr style=\"text-align: right;\">\n",
       "      <th></th>\n",
       "      <th>messages_included</th>\n",
       "      <th>mb_per_month_included</th>\n",
       "      <th>minutes_included</th>\n",
       "      <th>usd_monthly_pay</th>\n",
       "      <th>usd_per_gb</th>\n",
       "      <th>usd_per_message</th>\n",
       "      <th>usd_per_minute</th>\n",
       "      <th>plan_name</th>\n",
       "    </tr>\n",
       "  </thead>\n",
       "  <tbody>\n",
       "    <tr>\n",
       "      <th>0</th>\n",
       "      <td>50</td>\n",
       "      <td>15360</td>\n",
       "      <td>500</td>\n",
       "      <td>20</td>\n",
       "      <td>10</td>\n",
       "      <td>0.03</td>\n",
       "      <td>0.03</td>\n",
       "      <td>surf</td>\n",
       "    </tr>\n",
       "    <tr>\n",
       "      <th>1</th>\n",
       "      <td>1000</td>\n",
       "      <td>30720</td>\n",
       "      <td>3000</td>\n",
       "      <td>70</td>\n",
       "      <td>7</td>\n",
       "      <td>0.01</td>\n",
       "      <td>0.01</td>\n",
       "      <td>ultimate</td>\n",
       "    </tr>\n",
       "  </tbody>\n",
       "</table>\n",
       "</div>"
      ],
      "text/plain": [
       "   messages_included  mb_per_month_included  minutes_included  \\\n",
       "0                 50                  15360               500   \n",
       "1               1000                  30720              3000   \n",
       "\n",
       "   usd_monthly_pay  usd_per_gb  usd_per_message  usd_per_minute plan_name  \n",
       "0               20          10             0.03            0.03      surf  \n",
       "1               70           7             0.01            0.01  ultimate  "
      ]
     },
     "execution_count": 3,
     "metadata": {},
     "output_type": "execute_result"
    }
   ],
   "source": [
    "# Print the general/summary information about the plans' DataFrame\n",
    "\n",
    "plans.info()\n",
    "print()\n",
    "plans.head()\n",
    "\n"
   ]
  },
  {
   "cell_type": "code",
   "execution_count": 4,
   "metadata": {},
   "outputs": [],
   "source": [
    "# Print a sample of data for plans\n",
    "# Plans data only has 2 records, full dataframe has been posted above. \n"
   ]
  },
  {
   "cell_type": "markdown",
   "metadata": {},
   "source": [
    "**Observations**\n",
    "\n",
    "All of the plans data looks good to me. Data types are appropriate for each column, there is no missing data, and no duplicates. This should be good to move on. The thing that is strange, is that this table measures internet usage in mb, but the customers are charged per gb. We will likely want to fix this. "
   ]
  },
  {
   "cell_type": "markdown",
   "metadata": {},
   "source": [
    " "
   ]
  },
  {
   "cell_type": "markdown",
   "metadata": {},
   "source": [
    "## Fix data"
   ]
  },
  {
   "cell_type": "markdown",
   "metadata": {},
   "source": [
    "Since the `plans` table is measuring internet usage in megabytes, but customers are charged in gigabytes, we will create a new column for gigabytes, preserving the initial data, but adding a new column for clarity's sake."
   ]
  },
  {
   "cell_type": "code",
   "execution_count": 5,
   "metadata": {},
   "outputs": [
    {
     "data": {
      "text/html": [
       "<div>\n",
       "<style scoped>\n",
       "    .dataframe tbody tr th:only-of-type {\n",
       "        vertical-align: middle;\n",
       "    }\n",
       "\n",
       "    .dataframe tbody tr th {\n",
       "        vertical-align: top;\n",
       "    }\n",
       "\n",
       "    .dataframe thead th {\n",
       "        text-align: right;\n",
       "    }\n",
       "</style>\n",
       "<table border=\"1\" class=\"dataframe\">\n",
       "  <thead>\n",
       "    <tr style=\"text-align: right;\">\n",
       "      <th></th>\n",
       "      <th>messages_included</th>\n",
       "      <th>mb_per_month_included</th>\n",
       "      <th>minutes_included</th>\n",
       "      <th>usd_monthly_pay</th>\n",
       "      <th>usd_per_gb</th>\n",
       "      <th>usd_per_message</th>\n",
       "      <th>usd_per_minute</th>\n",
       "      <th>plan_name</th>\n",
       "      <th>gb_per_month_included</th>\n",
       "    </tr>\n",
       "  </thead>\n",
       "  <tbody>\n",
       "    <tr>\n",
       "      <th>0</th>\n",
       "      <td>50</td>\n",
       "      <td>15360</td>\n",
       "      <td>500</td>\n",
       "      <td>20</td>\n",
       "      <td>10</td>\n",
       "      <td>0.03</td>\n",
       "      <td>0.03</td>\n",
       "      <td>surf</td>\n",
       "      <td>15.0</td>\n",
       "    </tr>\n",
       "    <tr>\n",
       "      <th>1</th>\n",
       "      <td>1000</td>\n",
       "      <td>30720</td>\n",
       "      <td>3000</td>\n",
       "      <td>70</td>\n",
       "      <td>7</td>\n",
       "      <td>0.01</td>\n",
       "      <td>0.01</td>\n",
       "      <td>ultimate</td>\n",
       "      <td>30.0</td>\n",
       "    </tr>\n",
       "  </tbody>\n",
       "</table>\n",
       "</div>"
      ],
      "text/plain": [
       "   messages_included  mb_per_month_included  minutes_included  \\\n",
       "0                 50                  15360               500   \n",
       "1               1000                  30720              3000   \n",
       "\n",
       "   usd_monthly_pay  usd_per_gb  usd_per_message  usd_per_minute plan_name  \\\n",
       "0               20          10             0.03            0.03      surf   \n",
       "1               70           7             0.01            0.01  ultimate   \n",
       "\n",
       "   gb_per_month_included  \n",
       "0                   15.0  \n",
       "1                   30.0  "
      ]
     },
     "metadata": {},
     "output_type": "display_data"
    }
   ],
   "source": [
    "# We will take the value from 'mb_per_month_included' and divide it by 1024 to get the value in gb into a new column\n",
    "\n",
    "plans['gb_per_month_included'] = plans['mb_per_month_included'] / 1024\n",
    "\n",
    "display(plans.head())"
   ]
  },
  {
   "cell_type": "markdown",
   "metadata": {},
   "source": [
    "## Enrich data"
   ]
  },
  {
   "cell_type": "markdown",
   "metadata": {},
   "source": [
    "[Add additional factors to the data if you believe they might be useful.]"
   ]
  },
  {
   "cell_type": "code",
   "execution_count": null,
   "metadata": {},
   "outputs": [],
   "source": []
  },
  {
   "cell_type": "markdown",
   "metadata": {},
   "source": [
    "## Users"
   ]
  },
  {
   "cell_type": "code",
   "execution_count": 6,
   "metadata": {},
   "outputs": [
    {
     "name": "stdout",
     "output_type": "stream",
     "text": [
      "<class 'pandas.core.frame.DataFrame'>\n",
      "RangeIndex: 500 entries, 0 to 499\n",
      "Data columns (total 8 columns):\n",
      " #   Column      Non-Null Count  Dtype \n",
      "---  ------      --------------  ----- \n",
      " 0   user_id     500 non-null    int64 \n",
      " 1   first_name  500 non-null    object\n",
      " 2   last_name   500 non-null    object\n",
      " 3   age         500 non-null    int64 \n",
      " 4   city        500 non-null    object\n",
      " 5   reg_date    500 non-null    object\n",
      " 6   plan        500 non-null    object\n",
      " 7   churn_date  34 non-null     object\n",
      "dtypes: int64(2), object(6)\n",
      "memory usage: 31.4+ KB\n",
      "\n",
      "Duplicated rows:\n",
      "0\n",
      "Duplicated user IDs:\n",
      "0\n",
      "\n",
      "Number of users on each plan\n",
      "surf        339\n",
      "ultimate    161\n",
      "Name: plan, dtype: int64\n"
     ]
    }
   ],
   "source": [
    "# Print the general/summary information about the users' DataFrame\n",
    "users.info()\n",
    "print()\n",
    "users.head()\n",
    "\n",
    "print(\"Duplicated rows:\")\n",
    "print(users.duplicated().sum())\n",
    "\n",
    "print(\"Duplicated user IDs:\")\n",
    "print(users['user_id'].duplicated().sum())\n",
    "\n",
    "print()\n",
    "print(\"Number of users on each plan\") # this may be helpful for later\n",
    "print(users['plan'].value_counts())"
   ]
  },
  {
   "cell_type": "code",
   "execution_count": 7,
   "metadata": {},
   "outputs": [
    {
     "data": {
      "text/html": [
       "<div>\n",
       "<style scoped>\n",
       "    .dataframe tbody tr th:only-of-type {\n",
       "        vertical-align: middle;\n",
       "    }\n",
       "\n",
       "    .dataframe tbody tr th {\n",
       "        vertical-align: top;\n",
       "    }\n",
       "\n",
       "    .dataframe thead th {\n",
       "        text-align: right;\n",
       "    }\n",
       "</style>\n",
       "<table border=\"1\" class=\"dataframe\">\n",
       "  <thead>\n",
       "    <tr style=\"text-align: right;\">\n",
       "      <th></th>\n",
       "      <th>user_id</th>\n",
       "      <th>first_name</th>\n",
       "      <th>last_name</th>\n",
       "      <th>age</th>\n",
       "      <th>city</th>\n",
       "      <th>reg_date</th>\n",
       "      <th>plan</th>\n",
       "      <th>churn_date</th>\n",
       "    </tr>\n",
       "  </thead>\n",
       "  <tbody>\n",
       "    <tr>\n",
       "      <th>468</th>\n",
       "      <td>1468</td>\n",
       "      <td>Johana</td>\n",
       "      <td>Kim</td>\n",
       "      <td>55</td>\n",
       "      <td>Denver-Aurora-Lakewood, CO MSA</td>\n",
       "      <td>2018-09-08</td>\n",
       "      <td>surf</td>\n",
       "      <td>NaN</td>\n",
       "    </tr>\n",
       "    <tr>\n",
       "      <th>483</th>\n",
       "      <td>1483</td>\n",
       "      <td>Miguel</td>\n",
       "      <td>Farrell</td>\n",
       "      <td>35</td>\n",
       "      <td>Chicago-Naperville-Elgin, IL-IN-WI MSA</td>\n",
       "      <td>2018-04-25</td>\n",
       "      <td>surf</td>\n",
       "      <td>NaN</td>\n",
       "    </tr>\n",
       "    <tr>\n",
       "      <th>59</th>\n",
       "      <td>1059</td>\n",
       "      <td>Avril</td>\n",
       "      <td>Richardson</td>\n",
       "      <td>34</td>\n",
       "      <td>Chicago-Naperville-Elgin, IL-IN-WI MSA</td>\n",
       "      <td>2018-04-22</td>\n",
       "      <td>ultimate</td>\n",
       "      <td>NaN</td>\n",
       "    </tr>\n",
       "    <tr>\n",
       "      <th>36</th>\n",
       "      <td>1036</td>\n",
       "      <td>Myron</td>\n",
       "      <td>Hodge</td>\n",
       "      <td>70</td>\n",
       "      <td>Denver-Aurora-Lakewood, CO MSA</td>\n",
       "      <td>2018-05-09</td>\n",
       "      <td>ultimate</td>\n",
       "      <td>NaN</td>\n",
       "    </tr>\n",
       "    <tr>\n",
       "      <th>385</th>\n",
       "      <td>1385</td>\n",
       "      <td>Nohemi</td>\n",
       "      <td>Erickson</td>\n",
       "      <td>52</td>\n",
       "      <td>New York-Newark-Jersey City, NY-NJ-PA MSA</td>\n",
       "      <td>2018-01-19</td>\n",
       "      <td>surf</td>\n",
       "      <td>NaN</td>\n",
       "    </tr>\n",
       "  </tbody>\n",
       "</table>\n",
       "</div>"
      ],
      "text/plain": [
       "     user_id first_name   last_name  age  \\\n",
       "468     1468     Johana         Kim   55   \n",
       "483     1483     Miguel     Farrell   35   \n",
       "59      1059      Avril  Richardson   34   \n",
       "36      1036      Myron       Hodge   70   \n",
       "385     1385     Nohemi    Erickson   52   \n",
       "\n",
       "                                          city    reg_date      plan  \\\n",
       "468             Denver-Aurora-Lakewood, CO MSA  2018-09-08      surf   \n",
       "483     Chicago-Naperville-Elgin, IL-IN-WI MSA  2018-04-25      surf   \n",
       "59      Chicago-Naperville-Elgin, IL-IN-WI MSA  2018-04-22  ultimate   \n",
       "36              Denver-Aurora-Lakewood, CO MSA  2018-05-09  ultimate   \n",
       "385  New York-Newark-Jersey City, NY-NJ-PA MSA  2018-01-19      surf   \n",
       "\n",
       "    churn_date  \n",
       "468        NaN  \n",
       "483        NaN  \n",
       "59         NaN  \n",
       "36         NaN  \n",
       "385        NaN  "
      ]
     },
     "execution_count": 7,
     "metadata": {},
     "output_type": "execute_result"
    }
   ],
   "source": [
    "# Print a sample of data for users\n",
    "users.sample(5)\n",
    "\n"
   ]
  },
  {
   "cell_type": "markdown",
   "metadata": {},
   "source": [
    "**Observations**\n",
    "\n",
    "There are no duplicated rows nor user_ids. The only missing data looks to be 'churn_date', which makes sense, considering most customers probably haven't churned. Most data types look correct, but we'll want to change 'reg_date' and 'churn_date' to be datetimes, not objects, in case we want to do any specific datetime calculations. We may want to create an aggregate column to indicate if a customer has churned or not, perhaps a simple 1 or 0 to indicate, for any further calculations."
   ]
  },
  {
   "cell_type": "markdown",
   "metadata": {},
   "source": [
    " "
   ]
  },
  {
   "cell_type": "markdown",
   "metadata": {},
   "source": [
    "### Fix Data"
   ]
  },
  {
   "cell_type": "markdown",
   "metadata": {},
   "source": [
    "[Fix obvious issues with the data given the initial observations.]"
   ]
  },
  {
   "cell_type": "code",
   "execution_count": 8,
   "metadata": {},
   "outputs": [
    {
     "name": "stdout",
     "output_type": "stream",
     "text": [
      "reg_date data type: datetime64[ns]\n",
      "churn_date data type: datetime64[ns]\n"
     ]
    },
    {
     "data": {
      "text/html": [
       "<div>\n",
       "<style scoped>\n",
       "    .dataframe tbody tr th:only-of-type {\n",
       "        vertical-align: middle;\n",
       "    }\n",
       "\n",
       "    .dataframe tbody tr th {\n",
       "        vertical-align: top;\n",
       "    }\n",
       "\n",
       "    .dataframe thead th {\n",
       "        text-align: right;\n",
       "    }\n",
       "</style>\n",
       "<table border=\"1\" class=\"dataframe\">\n",
       "  <thead>\n",
       "    <tr style=\"text-align: right;\">\n",
       "      <th></th>\n",
       "      <th>user_id</th>\n",
       "      <th>first_name</th>\n",
       "      <th>last_name</th>\n",
       "      <th>age</th>\n",
       "      <th>city</th>\n",
       "      <th>reg_date</th>\n",
       "      <th>plan</th>\n",
       "      <th>churn_date</th>\n",
       "    </tr>\n",
       "  </thead>\n",
       "  <tbody>\n",
       "    <tr>\n",
       "      <th>284</th>\n",
       "      <td>1284</td>\n",
       "      <td>Yuri</td>\n",
       "      <td>Odom</td>\n",
       "      <td>51</td>\n",
       "      <td>Dayton-Kettering, OH MSA</td>\n",
       "      <td>2018-09-07</td>\n",
       "      <td>surf</td>\n",
       "      <td>NaT</td>\n",
       "    </tr>\n",
       "    <tr>\n",
       "      <th>7</th>\n",
       "      <td>1007</td>\n",
       "      <td>Eusebio</td>\n",
       "      <td>Welch</td>\n",
       "      <td>42</td>\n",
       "      <td>Grand Rapids-Kentwood, MI MSA</td>\n",
       "      <td>2018-07-11</td>\n",
       "      <td>surf</td>\n",
       "      <td>NaT</td>\n",
       "    </tr>\n",
       "    <tr>\n",
       "      <th>321</th>\n",
       "      <td>1321</td>\n",
       "      <td>Karlyn</td>\n",
       "      <td>Jimenez</td>\n",
       "      <td>19</td>\n",
       "      <td>North Port-Sarasota-Bradenton, FL MSA</td>\n",
       "      <td>2018-05-31</td>\n",
       "      <td>surf</td>\n",
       "      <td>NaT</td>\n",
       "    </tr>\n",
       "    <tr>\n",
       "      <th>372</th>\n",
       "      <td>1372</td>\n",
       "      <td>Patria</td>\n",
       "      <td>Kim</td>\n",
       "      <td>26</td>\n",
       "      <td>New York-Newark-Jersey City, NY-NJ-PA MSA</td>\n",
       "      <td>2018-10-08</td>\n",
       "      <td>surf</td>\n",
       "      <td>NaT</td>\n",
       "    </tr>\n",
       "    <tr>\n",
       "      <th>311</th>\n",
       "      <td>1311</td>\n",
       "      <td>Cherlyn</td>\n",
       "      <td>Saunders</td>\n",
       "      <td>69</td>\n",
       "      <td>Memphis, TN-MS-AR MSA</td>\n",
       "      <td>2018-06-27</td>\n",
       "      <td>ultimate</td>\n",
       "      <td>NaT</td>\n",
       "    </tr>\n",
       "  </tbody>\n",
       "</table>\n",
       "</div>"
      ],
      "text/plain": [
       "     user_id first_name last_name  age  \\\n",
       "284     1284       Yuri      Odom   51   \n",
       "7       1007    Eusebio     Welch   42   \n",
       "321     1321     Karlyn   Jimenez   19   \n",
       "372     1372     Patria       Kim   26   \n",
       "311     1311    Cherlyn  Saunders   69   \n",
       "\n",
       "                                          city   reg_date      plan churn_date  \n",
       "284                   Dayton-Kettering, OH MSA 2018-09-07      surf        NaT  \n",
       "7                Grand Rapids-Kentwood, MI MSA 2018-07-11      surf        NaT  \n",
       "321      North Port-Sarasota-Bradenton, FL MSA 2018-05-31      surf        NaT  \n",
       "372  New York-Newark-Jersey City, NY-NJ-PA MSA 2018-10-08      surf        NaT  \n",
       "311                      Memphis, TN-MS-AR MSA 2018-06-27  ultimate        NaT  "
      ]
     },
     "metadata": {},
     "output_type": "display_data"
    }
   ],
   "source": [
    "# We are going to convert the data types of 'reg_date' and 'churn_date' to be datetimes, instead of objects\n",
    "\n",
    "users['reg_date'] = pd.to_datetime(users['reg_date'], format='%Y-%m-%d')\n",
    "users['churn_date'] = pd.to_datetime(users['churn_date'], format='%Y-%m-%d')\n",
    "\n",
    "# Lets check the data types for those columns to make sure it worked correctly\n",
    "\n",
    "print(\"reg_date data type:\", users['reg_date'].dtype)\n",
    "print(\"churn_date data type:\", users['churn_date'].dtype)\n",
    "\n",
    "# Great, now let's check the users table to make sure it looks okay\n",
    "\n",
    "display(users.sample(5))\n",
    "\n",
    "# Everything looks okay, we can move on"
   ]
  },
  {
   "cell_type": "markdown",
   "metadata": {},
   "source": [
    "### Enrich Data"
   ]
  },
  {
   "cell_type": "markdown",
   "metadata": {},
   "source": [
    "We can use the existing data to add a new column to indicate whether or not a customer has churned"
   ]
  },
  {
   "cell_type": "code",
   "execution_count": 9,
   "metadata": {},
   "outputs": [],
   "source": [
    "# We'll want to add a new column, called 'is_churned'\n",
    "# We will generate the new column of True/False values using isna() to see if the 'churn_date' column is null\n",
    "\n",
    "users['is_churned'] = users['churn_date'].isna()\n",
    "\n",
    "# then we will use to_replace() and replace True values with 0 and False values with 1\n",
    "# if isna() returns a True, that means there was no churn date, meaning the customer has not churned\n",
    "users['is_churned'] = users['is_churned'].replace(to_replace=[True, False], value=[0, 1])\n",
    "\n"
   ]
  },
  {
   "cell_type": "code",
   "execution_count": 10,
   "metadata": {},
   "outputs": [
    {
     "data": {
      "text/html": [
       "<div>\n",
       "<style scoped>\n",
       "    .dataframe tbody tr th:only-of-type {\n",
       "        vertical-align: middle;\n",
       "    }\n",
       "\n",
       "    .dataframe tbody tr th {\n",
       "        vertical-align: top;\n",
       "    }\n",
       "\n",
       "    .dataframe thead th {\n",
       "        text-align: right;\n",
       "    }\n",
       "</style>\n",
       "<table border=\"1\" class=\"dataframe\">\n",
       "  <thead>\n",
       "    <tr style=\"text-align: right;\">\n",
       "      <th></th>\n",
       "      <th>user_id</th>\n",
       "      <th>first_name</th>\n",
       "      <th>last_name</th>\n",
       "      <th>age</th>\n",
       "      <th>city</th>\n",
       "      <th>reg_date</th>\n",
       "      <th>plan</th>\n",
       "      <th>churn_date</th>\n",
       "      <th>is_churned</th>\n",
       "    </tr>\n",
       "  </thead>\n",
       "  <tbody>\n",
       "    <tr>\n",
       "      <th>235</th>\n",
       "      <td>1235</td>\n",
       "      <td>Felton</td>\n",
       "      <td>Nguyen</td>\n",
       "      <td>50</td>\n",
       "      <td>Minneapolis-St. Paul-Bloomington, MN-WI MSA</td>\n",
       "      <td>2018-02-20</td>\n",
       "      <td>surf</td>\n",
       "      <td>NaT</td>\n",
       "      <td>0</td>\n",
       "    </tr>\n",
       "    <tr>\n",
       "      <th>247</th>\n",
       "      <td>1247</td>\n",
       "      <td>Marion</td>\n",
       "      <td>Singleton</td>\n",
       "      <td>75</td>\n",
       "      <td>Los Angeles-Long Beach-Anaheim, CA MSA</td>\n",
       "      <td>2018-04-12</td>\n",
       "      <td>ultimate</td>\n",
       "      <td>NaT</td>\n",
       "      <td>0</td>\n",
       "    </tr>\n",
       "    <tr>\n",
       "      <th>256</th>\n",
       "      <td>1256</td>\n",
       "      <td>Johnny</td>\n",
       "      <td>Wise</td>\n",
       "      <td>53</td>\n",
       "      <td>Chicago-Naperville-Elgin, IL-IN-WI MSA</td>\n",
       "      <td>2018-09-11</td>\n",
       "      <td>surf</td>\n",
       "      <td>NaT</td>\n",
       "      <td>0</td>\n",
       "    </tr>\n",
       "    <tr>\n",
       "      <th>165</th>\n",
       "      <td>1165</td>\n",
       "      <td>Nigel</td>\n",
       "      <td>Huber</td>\n",
       "      <td>20</td>\n",
       "      <td>Philadelphia-Camden-Wilmington, PA-NJ-DE-MD MSA</td>\n",
       "      <td>2018-10-27</td>\n",
       "      <td>surf</td>\n",
       "      <td>NaT</td>\n",
       "      <td>0</td>\n",
       "    </tr>\n",
       "    <tr>\n",
       "      <th>438</th>\n",
       "      <td>1438</td>\n",
       "      <td>Harvey</td>\n",
       "      <td>Brooks</td>\n",
       "      <td>36</td>\n",
       "      <td>Orlando-Kissimmee-Sanford, FL MSA</td>\n",
       "      <td>2018-06-15</td>\n",
       "      <td>surf</td>\n",
       "      <td>NaT</td>\n",
       "      <td>0</td>\n",
       "    </tr>\n",
       "    <tr>\n",
       "      <th>195</th>\n",
       "      <td>1195</td>\n",
       "      <td>Roy</td>\n",
       "      <td>Velez</td>\n",
       "      <td>60</td>\n",
       "      <td>Portland-Vancouver-Hillsboro, OR-WA MSA</td>\n",
       "      <td>2018-06-09</td>\n",
       "      <td>surf</td>\n",
       "      <td>NaT</td>\n",
       "      <td>0</td>\n",
       "    </tr>\n",
       "    <tr>\n",
       "      <th>488</th>\n",
       "      <td>1488</td>\n",
       "      <td>Shirley</td>\n",
       "      <td>Jones</td>\n",
       "      <td>29</td>\n",
       "      <td>Baton Rouge, LA MSA</td>\n",
       "      <td>2018-05-15</td>\n",
       "      <td>surf</td>\n",
       "      <td>NaT</td>\n",
       "      <td>0</td>\n",
       "    </tr>\n",
       "    <tr>\n",
       "      <th>136</th>\n",
       "      <td>1136</td>\n",
       "      <td>Jasper</td>\n",
       "      <td>Caldwell</td>\n",
       "      <td>25</td>\n",
       "      <td>Knoxville, TN MSA</td>\n",
       "      <td>2018-10-14</td>\n",
       "      <td>surf</td>\n",
       "      <td>NaT</td>\n",
       "      <td>0</td>\n",
       "    </tr>\n",
       "    <tr>\n",
       "      <th>149</th>\n",
       "      <td>1149</td>\n",
       "      <td>Jamaal</td>\n",
       "      <td>Camacho</td>\n",
       "      <td>54</td>\n",
       "      <td>San Francisco-Oakland-Berkeley, CA MSA</td>\n",
       "      <td>2018-03-03</td>\n",
       "      <td>surf</td>\n",
       "      <td>NaT</td>\n",
       "      <td>0</td>\n",
       "    </tr>\n",
       "    <tr>\n",
       "      <th>272</th>\n",
       "      <td>1272</td>\n",
       "      <td>Ernest</td>\n",
       "      <td>Mercado</td>\n",
       "      <td>23</td>\n",
       "      <td>Minneapolis-St. Paul-Bloomington, MN-WI MSA</td>\n",
       "      <td>2018-08-04</td>\n",
       "      <td>surf</td>\n",
       "      <td>NaT</td>\n",
       "      <td>0</td>\n",
       "    </tr>\n",
       "  </tbody>\n",
       "</table>\n",
       "</div>"
      ],
      "text/plain": [
       "     user_id first_name  last_name  age  \\\n",
       "235     1235     Felton     Nguyen   50   \n",
       "247     1247     Marion  Singleton   75   \n",
       "256     1256     Johnny       Wise   53   \n",
       "165     1165      Nigel      Huber   20   \n",
       "438     1438     Harvey     Brooks   36   \n",
       "195     1195        Roy      Velez   60   \n",
       "488     1488    Shirley      Jones   29   \n",
       "136     1136     Jasper   Caldwell   25   \n",
       "149     1149     Jamaal    Camacho   54   \n",
       "272     1272     Ernest    Mercado   23   \n",
       "\n",
       "                                                city   reg_date      plan  \\\n",
       "235      Minneapolis-St. Paul-Bloomington, MN-WI MSA 2018-02-20      surf   \n",
       "247           Los Angeles-Long Beach-Anaheim, CA MSA 2018-04-12  ultimate   \n",
       "256           Chicago-Naperville-Elgin, IL-IN-WI MSA 2018-09-11      surf   \n",
       "165  Philadelphia-Camden-Wilmington, PA-NJ-DE-MD MSA 2018-10-27      surf   \n",
       "438                Orlando-Kissimmee-Sanford, FL MSA 2018-06-15      surf   \n",
       "195          Portland-Vancouver-Hillsboro, OR-WA MSA 2018-06-09      surf   \n",
       "488                              Baton Rouge, LA MSA 2018-05-15      surf   \n",
       "136                                Knoxville, TN MSA 2018-10-14      surf   \n",
       "149           San Francisco-Oakland-Berkeley, CA MSA 2018-03-03      surf   \n",
       "272      Minneapolis-St. Paul-Bloomington, MN-WI MSA 2018-08-04      surf   \n",
       "\n",
       "    churn_date  is_churned  \n",
       "235        NaT           0  \n",
       "247        NaT           0  \n",
       "256        NaT           0  \n",
       "165        NaT           0  \n",
       "438        NaT           0  \n",
       "195        NaT           0  \n",
       "488        NaT           0  \n",
       "136        NaT           0  \n",
       "149        NaT           0  \n",
       "272        NaT           0  "
      ]
     },
     "metadata": {},
     "output_type": "display_data"
    }
   ],
   "source": [
    "# checking samples to make sure the above code worked as expected\n",
    "display(users.sample(10))"
   ]
  },
  {
   "cell_type": "markdown",
   "metadata": {},
   "source": [
    "## Calls"
   ]
  },
  {
   "cell_type": "code",
   "execution_count": 11,
   "metadata": {},
   "outputs": [
    {
     "name": "stdout",
     "output_type": "stream",
     "text": [
      "<class 'pandas.core.frame.DataFrame'>\n",
      "RangeIndex: 137735 entries, 0 to 137734\n",
      "Data columns (total 4 columns):\n",
      " #   Column     Non-Null Count   Dtype  \n",
      "---  ------     --------------   -----  \n",
      " 0   id         137735 non-null  object \n",
      " 1   user_id    137735 non-null  int64  \n",
      " 2   call_date  137735 non-null  object \n",
      " 3   duration   137735 non-null  float64\n",
      "dtypes: float64(1), int64(1), object(2)\n",
      "memory usage: 4.2+ MB\n",
      "\n"
     ]
    },
    {
     "data": {
      "text/html": [
       "<div>\n",
       "<style scoped>\n",
       "    .dataframe tbody tr th:only-of-type {\n",
       "        vertical-align: middle;\n",
       "    }\n",
       "\n",
       "    .dataframe tbody tr th {\n",
       "        vertical-align: top;\n",
       "    }\n",
       "\n",
       "    .dataframe thead th {\n",
       "        text-align: right;\n",
       "    }\n",
       "</style>\n",
       "<table border=\"1\" class=\"dataframe\">\n",
       "  <thead>\n",
       "    <tr style=\"text-align: right;\">\n",
       "      <th></th>\n",
       "      <th>id</th>\n",
       "      <th>user_id</th>\n",
       "      <th>call_date</th>\n",
       "      <th>duration</th>\n",
       "    </tr>\n",
       "  </thead>\n",
       "  <tbody>\n",
       "    <tr>\n",
       "      <th>0</th>\n",
       "      <td>1000_93</td>\n",
       "      <td>1000</td>\n",
       "      <td>2018-12-27</td>\n",
       "      <td>8.52</td>\n",
       "    </tr>\n",
       "    <tr>\n",
       "      <th>1</th>\n",
       "      <td>1000_145</td>\n",
       "      <td>1000</td>\n",
       "      <td>2018-12-27</td>\n",
       "      <td>13.66</td>\n",
       "    </tr>\n",
       "    <tr>\n",
       "      <th>2</th>\n",
       "      <td>1000_247</td>\n",
       "      <td>1000</td>\n",
       "      <td>2018-12-27</td>\n",
       "      <td>14.48</td>\n",
       "    </tr>\n",
       "    <tr>\n",
       "      <th>3</th>\n",
       "      <td>1000_309</td>\n",
       "      <td>1000</td>\n",
       "      <td>2018-12-28</td>\n",
       "      <td>5.76</td>\n",
       "    </tr>\n",
       "    <tr>\n",
       "      <th>4</th>\n",
       "      <td>1000_380</td>\n",
       "      <td>1000</td>\n",
       "      <td>2018-12-30</td>\n",
       "      <td>4.22</td>\n",
       "    </tr>\n",
       "  </tbody>\n",
       "</table>\n",
       "</div>"
      ],
      "text/plain": [
       "         id  user_id   call_date  duration\n",
       "0   1000_93     1000  2018-12-27      8.52\n",
       "1  1000_145     1000  2018-12-27     13.66\n",
       "2  1000_247     1000  2018-12-27     14.48\n",
       "3  1000_309     1000  2018-12-28      5.76\n",
       "4  1000_380     1000  2018-12-30      4.22"
      ]
     },
     "metadata": {},
     "output_type": "display_data"
    },
    {
     "name": "stdout",
     "output_type": "stream",
     "text": [
      "Duplicate rows:\n",
      "0\n",
      "Duplicate ids:\n",
      "0\n"
     ]
    }
   ],
   "source": [
    "# Print the general/summary information about the calls' DataFrame\n",
    "\n",
    "calls.info()\n",
    "print()\n",
    "display(calls.head())\n",
    "\n",
    "print(\"Duplicate rows:\")\n",
    "print(calls.duplicated().sum())\n",
    "print(\"Duplicate ids:\")\n",
    "print(calls['id'].duplicated().sum())\n",
    "\n"
   ]
  },
  {
   "cell_type": "code",
   "execution_count": 12,
   "metadata": {},
   "outputs": [
    {
     "data": {
      "text/html": [
       "<div>\n",
       "<style scoped>\n",
       "    .dataframe tbody tr th:only-of-type {\n",
       "        vertical-align: middle;\n",
       "    }\n",
       "\n",
       "    .dataframe tbody tr th {\n",
       "        vertical-align: top;\n",
       "    }\n",
       "\n",
       "    .dataframe thead th {\n",
       "        text-align: right;\n",
       "    }\n",
       "</style>\n",
       "<table border=\"1\" class=\"dataframe\">\n",
       "  <thead>\n",
       "    <tr style=\"text-align: right;\">\n",
       "      <th></th>\n",
       "      <th>id</th>\n",
       "      <th>user_id</th>\n",
       "      <th>call_date</th>\n",
       "      <th>duration</th>\n",
       "    </tr>\n",
       "  </thead>\n",
       "  <tbody>\n",
       "    <tr>\n",
       "      <th>64142</th>\n",
       "      <td>1232_438</td>\n",
       "      <td>1232</td>\n",
       "      <td>2018-04-10</td>\n",
       "      <td>12.78</td>\n",
       "    </tr>\n",
       "    <tr>\n",
       "      <th>132257</th>\n",
       "      <td>1476_198</td>\n",
       "      <td>1476</td>\n",
       "      <td>2018-12-19</td>\n",
       "      <td>8.53</td>\n",
       "    </tr>\n",
       "    <tr>\n",
       "      <th>38331</th>\n",
       "      <td>1144_221</td>\n",
       "      <td>1144</td>\n",
       "      <td>2018-09-22</td>\n",
       "      <td>13.60</td>\n",
       "    </tr>\n",
       "    <tr>\n",
       "      <th>112538</th>\n",
       "      <td>1397_98</td>\n",
       "      <td>1397</td>\n",
       "      <td>2018-12-29</td>\n",
       "      <td>10.09</td>\n",
       "    </tr>\n",
       "    <tr>\n",
       "      <th>99948</th>\n",
       "      <td>1358_357</td>\n",
       "      <td>1358</td>\n",
       "      <td>2018-08-18</td>\n",
       "      <td>4.68</td>\n",
       "    </tr>\n",
       "    <tr>\n",
       "      <th>105063</th>\n",
       "      <td>1370_153</td>\n",
       "      <td>1370</td>\n",
       "      <td>2018-11-26</td>\n",
       "      <td>0.00</td>\n",
       "    </tr>\n",
       "    <tr>\n",
       "      <th>46774</th>\n",
       "      <td>1170_536</td>\n",
       "      <td>1170</td>\n",
       "      <td>2018-10-22</td>\n",
       "      <td>0.00</td>\n",
       "    </tr>\n",
       "    <tr>\n",
       "      <th>103048</th>\n",
       "      <td>1365_244</td>\n",
       "      <td>1365</td>\n",
       "      <td>2018-10-29</td>\n",
       "      <td>7.40</td>\n",
       "    </tr>\n",
       "    <tr>\n",
       "      <th>38462</th>\n",
       "      <td>1144_369</td>\n",
       "      <td>1144</td>\n",
       "      <td>2018-07-08</td>\n",
       "      <td>1.42</td>\n",
       "    </tr>\n",
       "    <tr>\n",
       "      <th>132776</th>\n",
       "      <td>1478_230</td>\n",
       "      <td>1478</td>\n",
       "      <td>2018-11-30</td>\n",
       "      <td>1.61</td>\n",
       "    </tr>\n",
       "  </tbody>\n",
       "</table>\n",
       "</div>"
      ],
      "text/plain": [
       "              id  user_id   call_date  duration\n",
       "64142   1232_438     1232  2018-04-10     12.78\n",
       "132257  1476_198     1476  2018-12-19      8.53\n",
       "38331   1144_221     1144  2018-09-22     13.60\n",
       "112538   1397_98     1397  2018-12-29     10.09\n",
       "99948   1358_357     1358  2018-08-18      4.68\n",
       "105063  1370_153     1370  2018-11-26      0.00\n",
       "46774   1170_536     1170  2018-10-22      0.00\n",
       "103048  1365_244     1365  2018-10-29      7.40\n",
       "38462   1144_369     1144  2018-07-08      1.42\n",
       "132776  1478_230     1478  2018-11-30      1.61"
      ]
     },
     "metadata": {},
     "output_type": "display_data"
    }
   ],
   "source": [
    "# Print a sample of data for calls\n",
    "\n",
    "display(calls.sample(10))\n"
   ]
  },
  {
   "cell_type": "markdown",
   "metadata": {},
   "source": [
    "**Observations**\n",
    "\n",
    "There are no duplicate rows or call ids. This data looks mostly good, but we'll want to fix the data type for 'call_date' to a datetime. 'id' being an object shouldn't matter since it won't be used for calculations. "
   ]
  },
  {
   "cell_type": "markdown",
   "metadata": {},
   "source": [
    " "
   ]
  },
  {
   "cell_type": "markdown",
   "metadata": {},
   "source": [
    "### Fix data"
   ]
  },
  {
   "cell_type": "markdown",
   "metadata": {},
   "source": [
    "[Fix obvious issues with the data given the initial observations.]"
   ]
  },
  {
   "cell_type": "code",
   "execution_count": 13,
   "metadata": {},
   "outputs": [
    {
     "name": "stdout",
     "output_type": "stream",
     "text": [
      "datetime64[ns]\n"
     ]
    },
    {
     "data": {
      "text/html": [
       "<div>\n",
       "<style scoped>\n",
       "    .dataframe tbody tr th:only-of-type {\n",
       "        vertical-align: middle;\n",
       "    }\n",
       "\n",
       "    .dataframe tbody tr th {\n",
       "        vertical-align: top;\n",
       "    }\n",
       "\n",
       "    .dataframe thead th {\n",
       "        text-align: right;\n",
       "    }\n",
       "</style>\n",
       "<table border=\"1\" class=\"dataframe\">\n",
       "  <thead>\n",
       "    <tr style=\"text-align: right;\">\n",
       "      <th></th>\n",
       "      <th>id</th>\n",
       "      <th>user_id</th>\n",
       "      <th>call_date</th>\n",
       "      <th>duration</th>\n",
       "    </tr>\n",
       "  </thead>\n",
       "  <tbody>\n",
       "    <tr>\n",
       "      <th>0</th>\n",
       "      <td>1000_93</td>\n",
       "      <td>1000</td>\n",
       "      <td>2018-12-27</td>\n",
       "      <td>8.52</td>\n",
       "    </tr>\n",
       "    <tr>\n",
       "      <th>1</th>\n",
       "      <td>1000_145</td>\n",
       "      <td>1000</td>\n",
       "      <td>2018-12-27</td>\n",
       "      <td>13.66</td>\n",
       "    </tr>\n",
       "    <tr>\n",
       "      <th>2</th>\n",
       "      <td>1000_247</td>\n",
       "      <td>1000</td>\n",
       "      <td>2018-12-27</td>\n",
       "      <td>14.48</td>\n",
       "    </tr>\n",
       "    <tr>\n",
       "      <th>3</th>\n",
       "      <td>1000_309</td>\n",
       "      <td>1000</td>\n",
       "      <td>2018-12-28</td>\n",
       "      <td>5.76</td>\n",
       "    </tr>\n",
       "    <tr>\n",
       "      <th>4</th>\n",
       "      <td>1000_380</td>\n",
       "      <td>1000</td>\n",
       "      <td>2018-12-30</td>\n",
       "      <td>4.22</td>\n",
       "    </tr>\n",
       "  </tbody>\n",
       "</table>\n",
       "</div>"
      ],
      "text/plain": [
       "         id  user_id  call_date  duration\n",
       "0   1000_93     1000 2018-12-27      8.52\n",
       "1  1000_145     1000 2018-12-27     13.66\n",
       "2  1000_247     1000 2018-12-27     14.48\n",
       "3  1000_309     1000 2018-12-28      5.76\n",
       "4  1000_380     1000 2018-12-30      4.22"
      ]
     },
     "metadata": {},
     "output_type": "display_data"
    }
   ],
   "source": [
    "# we will convert the 'call_date' to datetime\n",
    "calls['call_date'] = pd.to_datetime(calls['call_date'], format='%Y-%m-%d')\n",
    "\n",
    "# checking the data type of the column\n",
    "print(calls['call_date'].dtype)\n",
    "# we'll check the table real quick to make sure the formatting looks correct\n",
    "display(calls.head())"
   ]
  },
  {
   "cell_type": "markdown",
   "metadata": {},
   "source": [
    "### Enrich data"
   ]
  },
  {
   "cell_type": "markdown",
   "metadata": {},
   "source": [
    "Since calls are rounded up to the minute, let's create a column with the call durations roudned up to the nearest minute"
   ]
  },
  {
   "cell_type": "code",
   "execution_count": 14,
   "metadata": {},
   "outputs": [
    {
     "data": {
      "text/html": [
       "<div>\n",
       "<style scoped>\n",
       "    .dataframe tbody tr th:only-of-type {\n",
       "        vertical-align: middle;\n",
       "    }\n",
       "\n",
       "    .dataframe tbody tr th {\n",
       "        vertical-align: top;\n",
       "    }\n",
       "\n",
       "    .dataframe thead th {\n",
       "        text-align: right;\n",
       "    }\n",
       "</style>\n",
       "<table border=\"1\" class=\"dataframe\">\n",
       "  <thead>\n",
       "    <tr style=\"text-align: right;\">\n",
       "      <th></th>\n",
       "      <th>id</th>\n",
       "      <th>user_id</th>\n",
       "      <th>call_date</th>\n",
       "      <th>duration</th>\n",
       "      <th>duration_rounded</th>\n",
       "    </tr>\n",
       "  </thead>\n",
       "  <tbody>\n",
       "    <tr>\n",
       "      <th>74204</th>\n",
       "      <td>1263_188</td>\n",
       "      <td>1263</td>\n",
       "      <td>2018-11-12</td>\n",
       "      <td>0.00</td>\n",
       "      <td>0.0</td>\n",
       "    </tr>\n",
       "    <tr>\n",
       "      <th>103953</th>\n",
       "      <td>1366_162</td>\n",
       "      <td>1366</td>\n",
       "      <td>2018-10-22</td>\n",
       "      <td>8.13</td>\n",
       "      <td>9.0</td>\n",
       "    </tr>\n",
       "    <tr>\n",
       "      <th>104756</th>\n",
       "      <td>1368_475</td>\n",
       "      <td>1368</td>\n",
       "      <td>2018-06-04</td>\n",
       "      <td>8.08</td>\n",
       "      <td>9.0</td>\n",
       "    </tr>\n",
       "    <tr>\n",
       "      <th>700</th>\n",
       "      <td>1004_190</td>\n",
       "      <td>1004</td>\n",
       "      <td>2018-07-10</td>\n",
       "      <td>2.45</td>\n",
       "      <td>3.0</td>\n",
       "    </tr>\n",
       "    <tr>\n",
       "      <th>6597</th>\n",
       "      <td>1031_301</td>\n",
       "      <td>1031</td>\n",
       "      <td>2018-09-18</td>\n",
       "      <td>6.17</td>\n",
       "      <td>7.0</td>\n",
       "    </tr>\n",
       "    <tr>\n",
       "      <th>133416</th>\n",
       "      <td>1483_221</td>\n",
       "      <td>1483</td>\n",
       "      <td>2018-09-09</td>\n",
       "      <td>9.00</td>\n",
       "      <td>9.0</td>\n",
       "    </tr>\n",
       "    <tr>\n",
       "      <th>22998</th>\n",
       "      <td>1084_45</td>\n",
       "      <td>1084</td>\n",
       "      <td>2018-11-19</td>\n",
       "      <td>0.00</td>\n",
       "      <td>0.0</td>\n",
       "    </tr>\n",
       "    <tr>\n",
       "      <th>69753</th>\n",
       "      <td>1249_749</td>\n",
       "      <td>1249</td>\n",
       "      <td>2018-10-08</td>\n",
       "      <td>13.98</td>\n",
       "      <td>14.0</td>\n",
       "    </tr>\n",
       "    <tr>\n",
       "      <th>3876</th>\n",
       "      <td>1016_137</td>\n",
       "      <td>1016</td>\n",
       "      <td>2018-12-06</td>\n",
       "      <td>3.94</td>\n",
       "      <td>4.0</td>\n",
       "    </tr>\n",
       "    <tr>\n",
       "      <th>65638</th>\n",
       "      <td>1237_245</td>\n",
       "      <td>1237</td>\n",
       "      <td>2018-10-22</td>\n",
       "      <td>10.16</td>\n",
       "      <td>11.0</td>\n",
       "    </tr>\n",
       "  </tbody>\n",
       "</table>\n",
       "</div>"
      ],
      "text/plain": [
       "              id  user_id  call_date  duration  duration_rounded\n",
       "74204   1263_188     1263 2018-11-12      0.00               0.0\n",
       "103953  1366_162     1366 2018-10-22      8.13               9.0\n",
       "104756  1368_475     1368 2018-06-04      8.08               9.0\n",
       "700     1004_190     1004 2018-07-10      2.45               3.0\n",
       "6597    1031_301     1031 2018-09-18      6.17               7.0\n",
       "133416  1483_221     1483 2018-09-09      9.00               9.0\n",
       "22998    1084_45     1084 2018-11-19      0.00               0.0\n",
       "69753   1249_749     1249 2018-10-08     13.98              14.0\n",
       "3876    1016_137     1016 2018-12-06      3.94               4.0\n",
       "65638   1237_245     1237 2018-10-22     10.16              11.0"
      ]
     },
     "metadata": {},
     "output_type": "display_data"
    }
   ],
   "source": [
    "# using np.ceil() allows us to apply the ceiling function to the entire column\n",
    "# which will round the decimal up to the next whole number, exactly what we want to achieve\n",
    "\n",
    "calls['duration_rounded'] = np.ceil(calls['duration'])\n",
    "\n",
    "display(calls.sample(10))\n"
   ]
  },
  {
   "cell_type": "code",
   "execution_count": 15,
   "metadata": {},
   "outputs": [
    {
     "data": {
      "text/html": [
       "<div>\n",
       "<style scoped>\n",
       "    .dataframe tbody tr th:only-of-type {\n",
       "        vertical-align: middle;\n",
       "    }\n",
       "\n",
       "    .dataframe tbody tr th {\n",
       "        vertical-align: top;\n",
       "    }\n",
       "\n",
       "    .dataframe thead th {\n",
       "        text-align: right;\n",
       "    }\n",
       "</style>\n",
       "<table border=\"1\" class=\"dataframe\">\n",
       "  <thead>\n",
       "    <tr style=\"text-align: right;\">\n",
       "      <th></th>\n",
       "      <th>id</th>\n",
       "      <th>user_id</th>\n",
       "      <th>call_date</th>\n",
       "      <th>duration</th>\n",
       "      <th>duration_rounded</th>\n",
       "      <th>month</th>\n",
       "    </tr>\n",
       "  </thead>\n",
       "  <tbody>\n",
       "    <tr>\n",
       "      <th>0</th>\n",
       "      <td>1000_93</td>\n",
       "      <td>1000</td>\n",
       "      <td>2018-12-27</td>\n",
       "      <td>8.52</td>\n",
       "      <td>9.0</td>\n",
       "      <td>12</td>\n",
       "    </tr>\n",
       "    <tr>\n",
       "      <th>1</th>\n",
       "      <td>1000_145</td>\n",
       "      <td>1000</td>\n",
       "      <td>2018-12-27</td>\n",
       "      <td>13.66</td>\n",
       "      <td>14.0</td>\n",
       "      <td>12</td>\n",
       "    </tr>\n",
       "    <tr>\n",
       "      <th>2</th>\n",
       "      <td>1000_247</td>\n",
       "      <td>1000</td>\n",
       "      <td>2018-12-27</td>\n",
       "      <td>14.48</td>\n",
       "      <td>15.0</td>\n",
       "      <td>12</td>\n",
       "    </tr>\n",
       "    <tr>\n",
       "      <th>3</th>\n",
       "      <td>1000_309</td>\n",
       "      <td>1000</td>\n",
       "      <td>2018-12-28</td>\n",
       "      <td>5.76</td>\n",
       "      <td>6.0</td>\n",
       "      <td>12</td>\n",
       "    </tr>\n",
       "    <tr>\n",
       "      <th>4</th>\n",
       "      <td>1000_380</td>\n",
       "      <td>1000</td>\n",
       "      <td>2018-12-30</td>\n",
       "      <td>4.22</td>\n",
       "      <td>5.0</td>\n",
       "      <td>12</td>\n",
       "    </tr>\n",
       "  </tbody>\n",
       "</table>\n",
       "</div>"
      ],
      "text/plain": [
       "         id  user_id  call_date  duration  duration_rounded  month\n",
       "0   1000_93     1000 2018-12-27      8.52               9.0     12\n",
       "1  1000_145     1000 2018-12-27     13.66              14.0     12\n",
       "2  1000_247     1000 2018-12-27     14.48              15.0     12\n",
       "3  1000_309     1000 2018-12-28      5.76               6.0     12\n",
       "4  1000_380     1000 2018-12-30      4.22               5.0     12"
      ]
     },
     "metadata": {},
     "output_type": "display_data"
    }
   ],
   "source": [
    "# Since we will be wanting to view call information on a per month basis\n",
    "# perhaps it will make things easier to have a month column\n",
    "\n",
    "# we'll use dt.month to grab just the month value from 'call_date' since it is a datetime now\n",
    "calls['month'] = calls['call_date'].dt.month\n",
    "\n",
    "display(calls.head())"
   ]
  },
  {
   "cell_type": "markdown",
   "metadata": {},
   "source": [
    "## Messages"
   ]
  },
  {
   "cell_type": "code",
   "execution_count": 16,
   "metadata": {},
   "outputs": [
    {
     "name": "stdout",
     "output_type": "stream",
     "text": [
      "<class 'pandas.core.frame.DataFrame'>\n",
      "RangeIndex: 76051 entries, 0 to 76050\n",
      "Data columns (total 3 columns):\n",
      " #   Column        Non-Null Count  Dtype \n",
      "---  ------        --------------  ----- \n",
      " 0   id            76051 non-null  object\n",
      " 1   user_id       76051 non-null  int64 \n",
      " 2   message_date  76051 non-null  object\n",
      "dtypes: int64(1), object(2)\n",
      "memory usage: 1.7+ MB\n",
      "\n"
     ]
    },
    {
     "data": {
      "text/html": [
       "<div>\n",
       "<style scoped>\n",
       "    .dataframe tbody tr th:only-of-type {\n",
       "        vertical-align: middle;\n",
       "    }\n",
       "\n",
       "    .dataframe tbody tr th {\n",
       "        vertical-align: top;\n",
       "    }\n",
       "\n",
       "    .dataframe thead th {\n",
       "        text-align: right;\n",
       "    }\n",
       "</style>\n",
       "<table border=\"1\" class=\"dataframe\">\n",
       "  <thead>\n",
       "    <tr style=\"text-align: right;\">\n",
       "      <th></th>\n",
       "      <th>id</th>\n",
       "      <th>user_id</th>\n",
       "      <th>message_date</th>\n",
       "    </tr>\n",
       "  </thead>\n",
       "  <tbody>\n",
       "    <tr>\n",
       "      <th>0</th>\n",
       "      <td>1000_125</td>\n",
       "      <td>1000</td>\n",
       "      <td>2018-12-27</td>\n",
       "    </tr>\n",
       "    <tr>\n",
       "      <th>1</th>\n",
       "      <td>1000_160</td>\n",
       "      <td>1000</td>\n",
       "      <td>2018-12-31</td>\n",
       "    </tr>\n",
       "    <tr>\n",
       "      <th>2</th>\n",
       "      <td>1000_223</td>\n",
       "      <td>1000</td>\n",
       "      <td>2018-12-31</td>\n",
       "    </tr>\n",
       "    <tr>\n",
       "      <th>3</th>\n",
       "      <td>1000_251</td>\n",
       "      <td>1000</td>\n",
       "      <td>2018-12-27</td>\n",
       "    </tr>\n",
       "    <tr>\n",
       "      <th>4</th>\n",
       "      <td>1000_255</td>\n",
       "      <td>1000</td>\n",
       "      <td>2018-12-26</td>\n",
       "    </tr>\n",
       "  </tbody>\n",
       "</table>\n",
       "</div>"
      ],
      "text/plain": [
       "         id  user_id message_date\n",
       "0  1000_125     1000   2018-12-27\n",
       "1  1000_160     1000   2018-12-31\n",
       "2  1000_223     1000   2018-12-31\n",
       "3  1000_251     1000   2018-12-27\n",
       "4  1000_255     1000   2018-12-26"
      ]
     },
     "metadata": {},
     "output_type": "display_data"
    },
    {
     "name": "stdout",
     "output_type": "stream",
     "text": [
      "Duplicated rows:\n",
      "0\n",
      "Duplicated ids:\n",
      "0\n"
     ]
    }
   ],
   "source": [
    "# Print the general/summary information about the messages' DataFrame\n",
    "\n",
    "messages.info()\n",
    "print()\n",
    "display(messages.head())\n",
    "\n",
    "print(\"Duplicated rows:\")\n",
    "print(messages.duplicated().sum())\n",
    "print(\"Duplicated ids:\")\n",
    "print(messages['id'].duplicated().sum())"
   ]
  },
  {
   "cell_type": "code",
   "execution_count": 17,
   "metadata": {},
   "outputs": [
    {
     "data": {
      "text/html": [
       "<div>\n",
       "<style scoped>\n",
       "    .dataframe tbody tr th:only-of-type {\n",
       "        vertical-align: middle;\n",
       "    }\n",
       "\n",
       "    .dataframe tbody tr th {\n",
       "        vertical-align: top;\n",
       "    }\n",
       "\n",
       "    .dataframe thead th {\n",
       "        text-align: right;\n",
       "    }\n",
       "</style>\n",
       "<table border=\"1\" class=\"dataframe\">\n",
       "  <thead>\n",
       "    <tr style=\"text-align: right;\">\n",
       "      <th></th>\n",
       "      <th>id</th>\n",
       "      <th>user_id</th>\n",
       "      <th>message_date</th>\n",
       "    </tr>\n",
       "  </thead>\n",
       "  <tbody>\n",
       "    <tr>\n",
       "      <th>53820</th>\n",
       "      <td>1341_96</td>\n",
       "      <td>1341</td>\n",
       "      <td>2018-12-19</td>\n",
       "    </tr>\n",
       "    <tr>\n",
       "      <th>15606</th>\n",
       "      <td>1102_15</td>\n",
       "      <td>1102</td>\n",
       "      <td>2018-12-24</td>\n",
       "    </tr>\n",
       "    <tr>\n",
       "      <th>10267</th>\n",
       "      <td>1076_615</td>\n",
       "      <td>1076</td>\n",
       "      <td>2018-08-03</td>\n",
       "    </tr>\n",
       "    <tr>\n",
       "      <th>43233</th>\n",
       "      <td>1285_55</td>\n",
       "      <td>1285</td>\n",
       "      <td>2018-08-21</td>\n",
       "    </tr>\n",
       "    <tr>\n",
       "      <th>13357</th>\n",
       "      <td>1088_365</td>\n",
       "      <td>1088</td>\n",
       "      <td>2018-12-01</td>\n",
       "    </tr>\n",
       "  </tbody>\n",
       "</table>\n",
       "</div>"
      ],
      "text/plain": [
       "             id  user_id message_date\n",
       "53820   1341_96     1341   2018-12-19\n",
       "15606   1102_15     1102   2018-12-24\n",
       "10267  1076_615     1076   2018-08-03\n",
       "43233   1285_55     1285   2018-08-21\n",
       "13357  1088_365     1088   2018-12-01"
      ]
     },
     "metadata": {},
     "output_type": "display_data"
    }
   ],
   "source": [
    "# Print a sample of data for messages\n",
    "\n",
    "display(messages.sample(5))"
   ]
  },
  {
   "cell_type": "markdown",
   "metadata": {},
   "source": [
    "**Observations**\n",
    "\n",
    "There are no duplicate rows or ids. Most of this data looks okay too. We'll just want to fix the data type of the 'message_date' from an object to a datetime."
   ]
  },
  {
   "cell_type": "markdown",
   "metadata": {},
   "source": [
    " "
   ]
  },
  {
   "cell_type": "markdown",
   "metadata": {},
   "source": [
    "### Fix data"
   ]
  },
  {
   "cell_type": "markdown",
   "metadata": {},
   "source": [
    "[Fix obvious issues with the data given the initial observations.]"
   ]
  },
  {
   "cell_type": "code",
   "execution_count": 18,
   "metadata": {},
   "outputs": [
    {
     "name": "stdout",
     "output_type": "stream",
     "text": [
      "datetime64[ns]\n"
     ]
    },
    {
     "data": {
      "text/html": [
       "<div>\n",
       "<style scoped>\n",
       "    .dataframe tbody tr th:only-of-type {\n",
       "        vertical-align: middle;\n",
       "    }\n",
       "\n",
       "    .dataframe tbody tr th {\n",
       "        vertical-align: top;\n",
       "    }\n",
       "\n",
       "    .dataframe thead th {\n",
       "        text-align: right;\n",
       "    }\n",
       "</style>\n",
       "<table border=\"1\" class=\"dataframe\">\n",
       "  <thead>\n",
       "    <tr style=\"text-align: right;\">\n",
       "      <th></th>\n",
       "      <th>id</th>\n",
       "      <th>user_id</th>\n",
       "      <th>message_date</th>\n",
       "    </tr>\n",
       "  </thead>\n",
       "  <tbody>\n",
       "    <tr>\n",
       "      <th>60821</th>\n",
       "      <td>1382_585</td>\n",
       "      <td>1382</td>\n",
       "      <td>2018-11-24</td>\n",
       "    </tr>\n",
       "    <tr>\n",
       "      <th>56514</th>\n",
       "      <td>1357_140</td>\n",
       "      <td>1357</td>\n",
       "      <td>2018-08-02</td>\n",
       "    </tr>\n",
       "    <tr>\n",
       "      <th>51080</th>\n",
       "      <td>1331_255</td>\n",
       "      <td>1331</td>\n",
       "      <td>2018-12-07</td>\n",
       "    </tr>\n",
       "    <tr>\n",
       "      <th>9256</th>\n",
       "      <td>1067_127</td>\n",
       "      <td>1067</td>\n",
       "      <td>2018-12-24</td>\n",
       "    </tr>\n",
       "    <tr>\n",
       "      <th>14881</th>\n",
       "      <td>1100_203</td>\n",
       "      <td>1100</td>\n",
       "      <td>2018-09-27</td>\n",
       "    </tr>\n",
       "  </tbody>\n",
       "</table>\n",
       "</div>"
      ],
      "text/plain": [
       "             id  user_id message_date\n",
       "60821  1382_585     1382   2018-11-24\n",
       "56514  1357_140     1357   2018-08-02\n",
       "51080  1331_255     1331   2018-12-07\n",
       "9256   1067_127     1067   2018-12-24\n",
       "14881  1100_203     1100   2018-09-27"
      ]
     },
     "metadata": {},
     "output_type": "display_data"
    }
   ],
   "source": [
    "messages['message_date'] = pd.to_datetime(messages['message_date'], format='%Y-%m-%d') \n",
    "\n",
    "# checking the data type of 'message_date'\n",
    "\n",
    "print(messages['message_date'].dtype) \n",
    "\n",
    "# checking a sample to make sure the format \n",
    "\n",
    "display(messages.sample(5))"
   ]
  },
  {
   "cell_type": "markdown",
   "metadata": {},
   "source": [
    "### Enrich data"
   ]
  },
  {
   "cell_type": "markdown",
   "metadata": {},
   "source": [
    "We'll want to add a month column like we did for calls, for easier future analyses"
   ]
  },
  {
   "cell_type": "code",
   "execution_count": 19,
   "metadata": {},
   "outputs": [
    {
     "data": {
      "text/html": [
       "<div>\n",
       "<style scoped>\n",
       "    .dataframe tbody tr th:only-of-type {\n",
       "        vertical-align: middle;\n",
       "    }\n",
       "\n",
       "    .dataframe tbody tr th {\n",
       "        vertical-align: top;\n",
       "    }\n",
       "\n",
       "    .dataframe thead th {\n",
       "        text-align: right;\n",
       "    }\n",
       "</style>\n",
       "<table border=\"1\" class=\"dataframe\">\n",
       "  <thead>\n",
       "    <tr style=\"text-align: right;\">\n",
       "      <th></th>\n",
       "      <th>id</th>\n",
       "      <th>user_id</th>\n",
       "      <th>message_date</th>\n",
       "      <th>month</th>\n",
       "    </tr>\n",
       "  </thead>\n",
       "  <tbody>\n",
       "    <tr>\n",
       "      <th>0</th>\n",
       "      <td>1000_125</td>\n",
       "      <td>1000</td>\n",
       "      <td>2018-12-27</td>\n",
       "      <td>12</td>\n",
       "    </tr>\n",
       "    <tr>\n",
       "      <th>1</th>\n",
       "      <td>1000_160</td>\n",
       "      <td>1000</td>\n",
       "      <td>2018-12-31</td>\n",
       "      <td>12</td>\n",
       "    </tr>\n",
       "    <tr>\n",
       "      <th>2</th>\n",
       "      <td>1000_223</td>\n",
       "      <td>1000</td>\n",
       "      <td>2018-12-31</td>\n",
       "      <td>12</td>\n",
       "    </tr>\n",
       "    <tr>\n",
       "      <th>3</th>\n",
       "      <td>1000_251</td>\n",
       "      <td>1000</td>\n",
       "      <td>2018-12-27</td>\n",
       "      <td>12</td>\n",
       "    </tr>\n",
       "    <tr>\n",
       "      <th>4</th>\n",
       "      <td>1000_255</td>\n",
       "      <td>1000</td>\n",
       "      <td>2018-12-26</td>\n",
       "      <td>12</td>\n",
       "    </tr>\n",
       "  </tbody>\n",
       "</table>\n",
       "</div>"
      ],
      "text/plain": [
       "         id  user_id message_date  month\n",
       "0  1000_125     1000   2018-12-27     12\n",
       "1  1000_160     1000   2018-12-31     12\n",
       "2  1000_223     1000   2018-12-31     12\n",
       "3  1000_251     1000   2018-12-27     12\n",
       "4  1000_255     1000   2018-12-26     12"
      ]
     },
     "metadata": {},
     "output_type": "display_data"
    }
   ],
   "source": [
    "# we'll use dt.month to grab just the month value from 'message_date' since it is a datetime now\n",
    "messages['month'] = messages['message_date'].dt.month\n",
    "\n",
    "display(messages.head())"
   ]
  },
  {
   "cell_type": "markdown",
   "metadata": {},
   "source": [
    "**Observations**\n",
    "\n",
    "`messages` should be ready to move forward. This is a simple table, I can't think of any enrichments that could be made to make our life easier later."
   ]
  },
  {
   "cell_type": "markdown",
   "metadata": {},
   "source": [
    "## Internet"
   ]
  },
  {
   "cell_type": "code",
   "execution_count": 20,
   "metadata": {},
   "outputs": [
    {
     "name": "stdout",
     "output_type": "stream",
     "text": [
      "<class 'pandas.core.frame.DataFrame'>\n",
      "RangeIndex: 104825 entries, 0 to 104824\n",
      "Data columns (total 4 columns):\n",
      " #   Column        Non-Null Count   Dtype  \n",
      "---  ------        --------------   -----  \n",
      " 0   id            104825 non-null  object \n",
      " 1   user_id       104825 non-null  int64  \n",
      " 2   session_date  104825 non-null  object \n",
      " 3   mb_used       104825 non-null  float64\n",
      "dtypes: float64(1), int64(1), object(2)\n",
      "memory usage: 3.2+ MB\n",
      "\n"
     ]
    },
    {
     "data": {
      "text/html": [
       "<div>\n",
       "<style scoped>\n",
       "    .dataframe tbody tr th:only-of-type {\n",
       "        vertical-align: middle;\n",
       "    }\n",
       "\n",
       "    .dataframe tbody tr th {\n",
       "        vertical-align: top;\n",
       "    }\n",
       "\n",
       "    .dataframe thead th {\n",
       "        text-align: right;\n",
       "    }\n",
       "</style>\n",
       "<table border=\"1\" class=\"dataframe\">\n",
       "  <thead>\n",
       "    <tr style=\"text-align: right;\">\n",
       "      <th></th>\n",
       "      <th>id</th>\n",
       "      <th>user_id</th>\n",
       "      <th>session_date</th>\n",
       "      <th>mb_used</th>\n",
       "    </tr>\n",
       "  </thead>\n",
       "  <tbody>\n",
       "    <tr>\n",
       "      <th>0</th>\n",
       "      <td>1000_13</td>\n",
       "      <td>1000</td>\n",
       "      <td>2018-12-29</td>\n",
       "      <td>89.86</td>\n",
       "    </tr>\n",
       "    <tr>\n",
       "      <th>1</th>\n",
       "      <td>1000_204</td>\n",
       "      <td>1000</td>\n",
       "      <td>2018-12-31</td>\n",
       "      <td>0.00</td>\n",
       "    </tr>\n",
       "    <tr>\n",
       "      <th>2</th>\n",
       "      <td>1000_379</td>\n",
       "      <td>1000</td>\n",
       "      <td>2018-12-28</td>\n",
       "      <td>660.40</td>\n",
       "    </tr>\n",
       "    <tr>\n",
       "      <th>3</th>\n",
       "      <td>1000_413</td>\n",
       "      <td>1000</td>\n",
       "      <td>2018-12-26</td>\n",
       "      <td>270.99</td>\n",
       "    </tr>\n",
       "    <tr>\n",
       "      <th>4</th>\n",
       "      <td>1000_442</td>\n",
       "      <td>1000</td>\n",
       "      <td>2018-12-27</td>\n",
       "      <td>880.22</td>\n",
       "    </tr>\n",
       "  </tbody>\n",
       "</table>\n",
       "</div>"
      ],
      "text/plain": [
       "         id  user_id session_date  mb_used\n",
       "0   1000_13     1000   2018-12-29    89.86\n",
       "1  1000_204     1000   2018-12-31     0.00\n",
       "2  1000_379     1000   2018-12-28   660.40\n",
       "3  1000_413     1000   2018-12-26   270.99\n",
       "4  1000_442     1000   2018-12-27   880.22"
      ]
     },
     "metadata": {},
     "output_type": "display_data"
    },
    {
     "name": "stdout",
     "output_type": "stream",
     "text": [
      "Duplicate rows:\n",
      "0\n",
      "Duplicate IDs:\n",
      "0\n"
     ]
    }
   ],
   "source": [
    "# Print the general/summary information about the internet DataFrame\n",
    "\n",
    "internet.info()\n",
    "print()\n",
    "display(internet.head())\n",
    "\n",
    "print(\"Duplicate rows:\")\n",
    "print(internet.duplicated().sum())\n",
    "print(\"Duplicate IDs:\")\n",
    "print(internet['id'].duplicated().sum())\n"
   ]
  },
  {
   "cell_type": "code",
   "execution_count": 21,
   "metadata": {},
   "outputs": [
    {
     "data": {
      "text/html": [
       "<div>\n",
       "<style scoped>\n",
       "    .dataframe tbody tr th:only-of-type {\n",
       "        vertical-align: middle;\n",
       "    }\n",
       "\n",
       "    .dataframe tbody tr th {\n",
       "        vertical-align: top;\n",
       "    }\n",
       "\n",
       "    .dataframe thead th {\n",
       "        text-align: right;\n",
       "    }\n",
       "</style>\n",
       "<table border=\"1\" class=\"dataframe\">\n",
       "  <thead>\n",
       "    <tr style=\"text-align: right;\">\n",
       "      <th></th>\n",
       "      <th>id</th>\n",
       "      <th>user_id</th>\n",
       "      <th>session_date</th>\n",
       "      <th>mb_used</th>\n",
       "    </tr>\n",
       "  </thead>\n",
       "  <tbody>\n",
       "    <tr>\n",
       "      <th>74933</th>\n",
       "      <td>1353_96</td>\n",
       "      <td>1353</td>\n",
       "      <td>2018-12-13</td>\n",
       "      <td>322.50</td>\n",
       "    </tr>\n",
       "    <tr>\n",
       "      <th>90674</th>\n",
       "      <td>1417_339</td>\n",
       "      <td>1417</td>\n",
       "      <td>2018-11-24</td>\n",
       "      <td>707.61</td>\n",
       "    </tr>\n",
       "    <tr>\n",
       "      <th>33198</th>\n",
       "      <td>1150_219</td>\n",
       "      <td>1150</td>\n",
       "      <td>2018-09-27</td>\n",
       "      <td>645.81</td>\n",
       "    </tr>\n",
       "    <tr>\n",
       "      <th>76289</th>\n",
       "      <td>1358_517</td>\n",
       "      <td>1358</td>\n",
       "      <td>2018-10-13</td>\n",
       "      <td>642.62</td>\n",
       "    </tr>\n",
       "    <tr>\n",
       "      <th>42770</th>\n",
       "      <td>1189_388</td>\n",
       "      <td>1189</td>\n",
       "      <td>2018-10-04</td>\n",
       "      <td>594.58</td>\n",
       "    </tr>\n",
       "  </tbody>\n",
       "</table>\n",
       "</div>"
      ],
      "text/plain": [
       "             id  user_id session_date  mb_used\n",
       "74933   1353_96     1353   2018-12-13   322.50\n",
       "90674  1417_339     1417   2018-11-24   707.61\n",
       "33198  1150_219     1150   2018-09-27   645.81\n",
       "76289  1358_517     1358   2018-10-13   642.62\n",
       "42770  1189_388     1189   2018-10-04   594.58"
      ]
     },
     "metadata": {},
     "output_type": "display_data"
    }
   ],
   "source": [
    "# Print a sample of data for the internet traffic\n",
    "display(internet.sample(5))\n"
   ]
  },
  {
   "cell_type": "markdown",
   "metadata": {},
   "source": [
    "**Observation**\n",
    "\n",
    "No duplicates. As we've seen before, we'll want to change the data type of 'session_date' to a datetime for calculations in the future. "
   ]
  },
  {
   "cell_type": "markdown",
   "metadata": {},
   "source": [
    " "
   ]
  },
  {
   "cell_type": "markdown",
   "metadata": {},
   "source": [
    "### Fix data"
   ]
  },
  {
   "cell_type": "markdown",
   "metadata": {},
   "source": [
    "[Fix obvious issues with the data given the initial observations.]"
   ]
  },
  {
   "cell_type": "code",
   "execution_count": 22,
   "metadata": {},
   "outputs": [
    {
     "name": "stdout",
     "output_type": "stream",
     "text": [
      "datetime64[ns]\n"
     ]
    },
    {
     "data": {
      "text/html": [
       "<div>\n",
       "<style scoped>\n",
       "    .dataframe tbody tr th:only-of-type {\n",
       "        vertical-align: middle;\n",
       "    }\n",
       "\n",
       "    .dataframe tbody tr th {\n",
       "        vertical-align: top;\n",
       "    }\n",
       "\n",
       "    .dataframe thead th {\n",
       "        text-align: right;\n",
       "    }\n",
       "</style>\n",
       "<table border=\"1\" class=\"dataframe\">\n",
       "  <thead>\n",
       "    <tr style=\"text-align: right;\">\n",
       "      <th></th>\n",
       "      <th>id</th>\n",
       "      <th>user_id</th>\n",
       "      <th>session_date</th>\n",
       "      <th>mb_used</th>\n",
       "    </tr>\n",
       "  </thead>\n",
       "  <tbody>\n",
       "    <tr>\n",
       "      <th>79884</th>\n",
       "      <td>1373_163</td>\n",
       "      <td>1373</td>\n",
       "      <td>2018-12-15</td>\n",
       "      <td>885.94</td>\n",
       "    </tr>\n",
       "    <tr>\n",
       "      <th>27411</th>\n",
       "      <td>1127_46</td>\n",
       "      <td>1127</td>\n",
       "      <td>2018-07-03</td>\n",
       "      <td>412.52</td>\n",
       "    </tr>\n",
       "    <tr>\n",
       "      <th>4433</th>\n",
       "      <td>1027_261</td>\n",
       "      <td>1027</td>\n",
       "      <td>2018-11-13</td>\n",
       "      <td>355.00</td>\n",
       "    </tr>\n",
       "    <tr>\n",
       "      <th>68136</th>\n",
       "      <td>1318_3</td>\n",
       "      <td>1318</td>\n",
       "      <td>2018-12-17</td>\n",
       "      <td>386.31</td>\n",
       "    </tr>\n",
       "    <tr>\n",
       "      <th>88561</th>\n",
       "      <td>1408_280</td>\n",
       "      <td>1408</td>\n",
       "      <td>2018-12-31</td>\n",
       "      <td>697.99</td>\n",
       "    </tr>\n",
       "  </tbody>\n",
       "</table>\n",
       "</div>"
      ],
      "text/plain": [
       "             id  user_id session_date  mb_used\n",
       "79884  1373_163     1373   2018-12-15   885.94\n",
       "27411   1127_46     1127   2018-07-03   412.52\n",
       "4433   1027_261     1027   2018-11-13   355.00\n",
       "68136    1318_3     1318   2018-12-17   386.31\n",
       "88561  1408_280     1408   2018-12-31   697.99"
      ]
     },
     "metadata": {},
     "output_type": "display_data"
    }
   ],
   "source": [
    "# Changing data type of 'session_date' to be a datetime\n",
    "\n",
    "internet['session_date'] = pd.to_datetime(internet['session_date'], format='%Y-%m-%d')\n",
    "\n",
    "# checking the data type of 'session_date'\n",
    "print(internet['session_date'].dtype)\n",
    "\n",
    "# checking the format in a sample\n",
    "display(internet.sample(5))"
   ]
  },
  {
   "cell_type": "markdown",
   "metadata": {},
   "source": [
    "### Enrich data"
   ]
  },
  {
   "cell_type": "markdown",
   "metadata": {},
   "source": [
    "Since the plans will total up the megabytes used at the end up the month, and then round up to the next gigabyte, we don't need to create a similar column like we did in `plans`. \n",
    "\n",
    "However, we'll grab just the month from 'session_date' and put it in a new 'month' column, like above"
   ]
  },
  {
   "cell_type": "code",
   "execution_count": 23,
   "metadata": {},
   "outputs": [
    {
     "data": {
      "text/html": [
       "<div>\n",
       "<style scoped>\n",
       "    .dataframe tbody tr th:only-of-type {\n",
       "        vertical-align: middle;\n",
       "    }\n",
       "\n",
       "    .dataframe tbody tr th {\n",
       "        vertical-align: top;\n",
       "    }\n",
       "\n",
       "    .dataframe thead th {\n",
       "        text-align: right;\n",
       "    }\n",
       "</style>\n",
       "<table border=\"1\" class=\"dataframe\">\n",
       "  <thead>\n",
       "    <tr style=\"text-align: right;\">\n",
       "      <th></th>\n",
       "      <th>id</th>\n",
       "      <th>user_id</th>\n",
       "      <th>session_date</th>\n",
       "      <th>mb_used</th>\n",
       "      <th>month</th>\n",
       "    </tr>\n",
       "  </thead>\n",
       "  <tbody>\n",
       "    <tr>\n",
       "      <th>0</th>\n",
       "      <td>1000_13</td>\n",
       "      <td>1000</td>\n",
       "      <td>2018-12-29</td>\n",
       "      <td>89.86</td>\n",
       "      <td>12</td>\n",
       "    </tr>\n",
       "    <tr>\n",
       "      <th>1</th>\n",
       "      <td>1000_204</td>\n",
       "      <td>1000</td>\n",
       "      <td>2018-12-31</td>\n",
       "      <td>0.00</td>\n",
       "      <td>12</td>\n",
       "    </tr>\n",
       "    <tr>\n",
       "      <th>2</th>\n",
       "      <td>1000_379</td>\n",
       "      <td>1000</td>\n",
       "      <td>2018-12-28</td>\n",
       "      <td>660.40</td>\n",
       "      <td>12</td>\n",
       "    </tr>\n",
       "    <tr>\n",
       "      <th>3</th>\n",
       "      <td>1000_413</td>\n",
       "      <td>1000</td>\n",
       "      <td>2018-12-26</td>\n",
       "      <td>270.99</td>\n",
       "      <td>12</td>\n",
       "    </tr>\n",
       "    <tr>\n",
       "      <th>4</th>\n",
       "      <td>1000_442</td>\n",
       "      <td>1000</td>\n",
       "      <td>2018-12-27</td>\n",
       "      <td>880.22</td>\n",
       "      <td>12</td>\n",
       "    </tr>\n",
       "  </tbody>\n",
       "</table>\n",
       "</div>"
      ],
      "text/plain": [
       "         id  user_id session_date  mb_used  month\n",
       "0   1000_13     1000   2018-12-29    89.86     12\n",
       "1  1000_204     1000   2018-12-31     0.00     12\n",
       "2  1000_379     1000   2018-12-28   660.40     12\n",
       "3  1000_413     1000   2018-12-26   270.99     12\n",
       "4  1000_442     1000   2018-12-27   880.22     12"
      ]
     },
     "metadata": {},
     "output_type": "display_data"
    }
   ],
   "source": [
    "# we'll use dt.month to grab just the month value from 'session_date' since it is a datetime now\n",
    "internet['month'] = internet['session_date'].dt.month\n",
    "\n",
    "display(internet.head())"
   ]
  },
  {
   "cell_type": "markdown",
   "metadata": {},
   "source": [
    "**Observations**\n",
    "\n",
    "`internet` should be ready to go here. 'session_date' was converted to a datetime, and we shouldn't need to do anything with converting the 'mb_used' to gb, since we add up all the sessions at the end up the month and then round to the nearest gb. "
   ]
  },
  {
   "cell_type": "markdown",
   "metadata": {},
   "source": [
    "## Study plan conditions"
   ]
  },
  {
   "cell_type": "markdown",
   "metadata": {},
   "source": [
    "[It is critical to understand how the plans work, how users are charged based on their plan subscription. So, we suggest printing out the plan information to view their conditions once again.]"
   ]
  },
  {
   "cell_type": "code",
   "execution_count": 24,
   "metadata": {},
   "outputs": [
    {
     "data": {
      "text/html": [
       "<div>\n",
       "<style scoped>\n",
       "    .dataframe tbody tr th:only-of-type {\n",
       "        vertical-align: middle;\n",
       "    }\n",
       "\n",
       "    .dataframe tbody tr th {\n",
       "        vertical-align: top;\n",
       "    }\n",
       "\n",
       "    .dataframe thead th {\n",
       "        text-align: right;\n",
       "    }\n",
       "</style>\n",
       "<table border=\"1\" class=\"dataframe\">\n",
       "  <thead>\n",
       "    <tr style=\"text-align: right;\">\n",
       "      <th></th>\n",
       "      <th>messages_included</th>\n",
       "      <th>mb_per_month_included</th>\n",
       "      <th>minutes_included</th>\n",
       "      <th>usd_monthly_pay</th>\n",
       "      <th>usd_per_gb</th>\n",
       "      <th>usd_per_message</th>\n",
       "      <th>usd_per_minute</th>\n",
       "      <th>plan_name</th>\n",
       "      <th>gb_per_month_included</th>\n",
       "    </tr>\n",
       "  </thead>\n",
       "  <tbody>\n",
       "    <tr>\n",
       "      <th>0</th>\n",
       "      <td>50</td>\n",
       "      <td>15360</td>\n",
       "      <td>500</td>\n",
       "      <td>20</td>\n",
       "      <td>10</td>\n",
       "      <td>0.03</td>\n",
       "      <td>0.03</td>\n",
       "      <td>surf</td>\n",
       "      <td>15.0</td>\n",
       "    </tr>\n",
       "    <tr>\n",
       "      <th>1</th>\n",
       "      <td>1000</td>\n",
       "      <td>30720</td>\n",
       "      <td>3000</td>\n",
       "      <td>70</td>\n",
       "      <td>7</td>\n",
       "      <td>0.01</td>\n",
       "      <td>0.01</td>\n",
       "      <td>ultimate</td>\n",
       "      <td>30.0</td>\n",
       "    </tr>\n",
       "  </tbody>\n",
       "</table>\n",
       "</div>"
      ],
      "text/plain": [
       "   messages_included  mb_per_month_included  minutes_included  \\\n",
       "0                 50                  15360               500   \n",
       "1               1000                  30720              3000   \n",
       "\n",
       "   usd_monthly_pay  usd_per_gb  usd_per_message  usd_per_minute plan_name  \\\n",
       "0               20          10             0.03            0.03      surf   \n",
       "1               70           7             0.01            0.01  ultimate   \n",
       "\n",
       "   gb_per_month_included  \n",
       "0                   15.0  \n",
       "1                   30.0  "
      ]
     },
     "metadata": {},
     "output_type": "display_data"
    }
   ],
   "source": [
    "# Print out the plan conditions and make sure they are clear for you\n",
    "display(plans)\n"
   ]
  },
  {
   "cell_type": "markdown",
   "metadata": {},
   "source": [
    "## Aggregate data per user\n",
    "\n",
    "[Now, as the data is clean, aggregate data per user per period in order to have just one record per user per period. It should ease the further analysis a lot.]"
   ]
  },
  {
   "cell_type": "code",
   "execution_count": 25,
   "metadata": {},
   "outputs": [
    {
     "data": {
      "text/html": [
       "<div>\n",
       "<style scoped>\n",
       "    .dataframe tbody tr th:only-of-type {\n",
       "        vertical-align: middle;\n",
       "    }\n",
       "\n",
       "    .dataframe tbody tr th {\n",
       "        vertical-align: top;\n",
       "    }\n",
       "\n",
       "    .dataframe thead th {\n",
       "        text-align: right;\n",
       "    }\n",
       "</style>\n",
       "<table border=\"1\" class=\"dataframe\">\n",
       "  <thead>\n",
       "    <tr style=\"text-align: right;\">\n",
       "      <th></th>\n",
       "      <th>user_id</th>\n",
       "      <th>month</th>\n",
       "      <th>calls_sum</th>\n",
       "    </tr>\n",
       "  </thead>\n",
       "  <tbody>\n",
       "    <tr>\n",
       "      <th>0</th>\n",
       "      <td>1000</td>\n",
       "      <td>12</td>\n",
       "      <td>16</td>\n",
       "    </tr>\n",
       "    <tr>\n",
       "      <th>1</th>\n",
       "      <td>1001</td>\n",
       "      <td>8</td>\n",
       "      <td>27</td>\n",
       "    </tr>\n",
       "    <tr>\n",
       "      <th>2</th>\n",
       "      <td>1001</td>\n",
       "      <td>9</td>\n",
       "      <td>49</td>\n",
       "    </tr>\n",
       "    <tr>\n",
       "      <th>3</th>\n",
       "      <td>1001</td>\n",
       "      <td>10</td>\n",
       "      <td>65</td>\n",
       "    </tr>\n",
       "    <tr>\n",
       "      <th>4</th>\n",
       "      <td>1001</td>\n",
       "      <td>11</td>\n",
       "      <td>64</td>\n",
       "    </tr>\n",
       "  </tbody>\n",
       "</table>\n",
       "</div>"
      ],
      "text/plain": [
       "   user_id  month  calls_sum\n",
       "0     1000     12         16\n",
       "1     1001      8         27\n",
       "2     1001      9         49\n",
       "3     1001     10         65\n",
       "4     1001     11         64"
      ]
     },
     "metadata": {},
     "output_type": "display_data"
    }
   ],
   "source": [
    "# Calculate the number of calls made by each user per month. Save the result.\n",
    "calls_per_month = calls.pivot_table(index=['user_id', 'month'], values='duration', aggfunc='count').reset_index()\n",
    "\n",
    "# renaming the pivot column to reflect the data we are showing\n",
    "calls_per_month = calls_per_month.rename(columns={'duration':'calls_sum'})\n",
    "display(calls_per_month.head())\n"
   ]
  },
  {
   "cell_type": "code",
   "execution_count": 26,
   "metadata": {},
   "outputs": [
    {
     "data": {
      "text/html": [
       "<div>\n",
       "<style scoped>\n",
       "    .dataframe tbody tr th:only-of-type {\n",
       "        vertical-align: middle;\n",
       "    }\n",
       "\n",
       "    .dataframe tbody tr th {\n",
       "        vertical-align: top;\n",
       "    }\n",
       "\n",
       "    .dataframe thead th {\n",
       "        text-align: right;\n",
       "    }\n",
       "</style>\n",
       "<table border=\"1\" class=\"dataframe\">\n",
       "  <thead>\n",
       "    <tr style=\"text-align: right;\">\n",
       "      <th></th>\n",
       "      <th>user_id</th>\n",
       "      <th>month</th>\n",
       "      <th>call_minutes</th>\n",
       "    </tr>\n",
       "  </thead>\n",
       "  <tbody>\n",
       "    <tr>\n",
       "      <th>0</th>\n",
       "      <td>1000</td>\n",
       "      <td>12</td>\n",
       "      <td>124.0</td>\n",
       "    </tr>\n",
       "    <tr>\n",
       "      <th>1</th>\n",
       "      <td>1001</td>\n",
       "      <td>8</td>\n",
       "      <td>182.0</td>\n",
       "    </tr>\n",
       "    <tr>\n",
       "      <th>2</th>\n",
       "      <td>1001</td>\n",
       "      <td>9</td>\n",
       "      <td>315.0</td>\n",
       "    </tr>\n",
       "    <tr>\n",
       "      <th>3</th>\n",
       "      <td>1001</td>\n",
       "      <td>10</td>\n",
       "      <td>393.0</td>\n",
       "    </tr>\n",
       "    <tr>\n",
       "      <th>4</th>\n",
       "      <td>1001</td>\n",
       "      <td>11</td>\n",
       "      <td>426.0</td>\n",
       "    </tr>\n",
       "  </tbody>\n",
       "</table>\n",
       "</div>"
      ],
      "text/plain": [
       "   user_id  month  call_minutes\n",
       "0     1000     12         124.0\n",
       "1     1001      8         182.0\n",
       "2     1001      9         315.0\n",
       "3     1001     10         393.0\n",
       "4     1001     11         426.0"
      ]
     },
     "metadata": {},
     "output_type": "display_data"
    }
   ],
   "source": [
    "# Calculate the amount of minutes spent by each user per month. Save the result.\n",
    "minutes_per_month = calls.pivot_table(index=['user_id', 'month'], values='duration_rounded', aggfunc='sum').reset_index()\n",
    "\n",
    "# renaming the pivot column to reflect the data we are displaying\n",
    "minutes_per_month = minutes_per_month.rename(columns={'duration_rounded':'call_minutes'})\n",
    "display(minutes_per_month.head())\n"
   ]
  },
  {
   "cell_type": "code",
   "execution_count": 27,
   "metadata": {},
   "outputs": [
    {
     "data": {
      "text/html": [
       "<div>\n",
       "<style scoped>\n",
       "    .dataframe tbody tr th:only-of-type {\n",
       "        vertical-align: middle;\n",
       "    }\n",
       "\n",
       "    .dataframe tbody tr th {\n",
       "        vertical-align: top;\n",
       "    }\n",
       "\n",
       "    .dataframe thead th {\n",
       "        text-align: right;\n",
       "    }\n",
       "</style>\n",
       "<table border=\"1\" class=\"dataframe\">\n",
       "  <thead>\n",
       "    <tr style=\"text-align: right;\">\n",
       "      <th></th>\n",
       "      <th>user_id</th>\n",
       "      <th>month</th>\n",
       "      <th>messages_sum</th>\n",
       "    </tr>\n",
       "  </thead>\n",
       "  <tbody>\n",
       "    <tr>\n",
       "      <th>0</th>\n",
       "      <td>1000</td>\n",
       "      <td>12</td>\n",
       "      <td>11</td>\n",
       "    </tr>\n",
       "    <tr>\n",
       "      <th>1</th>\n",
       "      <td>1001</td>\n",
       "      <td>8</td>\n",
       "      <td>30</td>\n",
       "    </tr>\n",
       "    <tr>\n",
       "      <th>2</th>\n",
       "      <td>1001</td>\n",
       "      <td>9</td>\n",
       "      <td>44</td>\n",
       "    </tr>\n",
       "    <tr>\n",
       "      <th>3</th>\n",
       "      <td>1001</td>\n",
       "      <td>10</td>\n",
       "      <td>53</td>\n",
       "    </tr>\n",
       "    <tr>\n",
       "      <th>4</th>\n",
       "      <td>1001</td>\n",
       "      <td>11</td>\n",
       "      <td>36</td>\n",
       "    </tr>\n",
       "  </tbody>\n",
       "</table>\n",
       "</div>"
      ],
      "text/plain": [
       "   user_id  month  messages_sum\n",
       "0     1000     12            11\n",
       "1     1001      8            30\n",
       "2     1001      9            44\n",
       "3     1001     10            53\n",
       "4     1001     11            36"
      ]
     },
     "metadata": {},
     "output_type": "display_data"
    }
   ],
   "source": [
    "# Calculate the number of messages sent by each user per month. Save the result.\n",
    "messages_per_month = messages.pivot_table(index=['user_id', 'month'], values='id', aggfunc='count').reset_index()\n",
    "\n",
    "# renaming the pivot column to reflect the data we are displaying\n",
    "messages_per_month = messages_per_month.rename(columns={'id':'messages_sum'})\n",
    "display(messages_per_month.head())\n"
   ]
  },
  {
   "cell_type": "code",
   "execution_count": 28,
   "metadata": {},
   "outputs": [
    {
     "data": {
      "text/html": [
       "<div>\n",
       "<style scoped>\n",
       "    .dataframe tbody tr th:only-of-type {\n",
       "        vertical-align: middle;\n",
       "    }\n",
       "\n",
       "    .dataframe tbody tr th {\n",
       "        vertical-align: top;\n",
       "    }\n",
       "\n",
       "    .dataframe thead th {\n",
       "        text-align: right;\n",
       "    }\n",
       "</style>\n",
       "<table border=\"1\" class=\"dataframe\">\n",
       "  <thead>\n",
       "    <tr style=\"text-align: right;\">\n",
       "      <th></th>\n",
       "      <th>user_id</th>\n",
       "      <th>month</th>\n",
       "      <th>mb_used</th>\n",
       "      <th>gb_used</th>\n",
       "      <th>gb_rounded</th>\n",
       "    </tr>\n",
       "  </thead>\n",
       "  <tbody>\n",
       "    <tr>\n",
       "      <th>0</th>\n",
       "      <td>1000</td>\n",
       "      <td>12</td>\n",
       "      <td>1901.47</td>\n",
       "      <td>1.856904</td>\n",
       "      <td>2.0</td>\n",
       "    </tr>\n",
       "    <tr>\n",
       "      <th>1</th>\n",
       "      <td>1001</td>\n",
       "      <td>8</td>\n",
       "      <td>6919.15</td>\n",
       "      <td>6.756982</td>\n",
       "      <td>7.0</td>\n",
       "    </tr>\n",
       "    <tr>\n",
       "      <th>2</th>\n",
       "      <td>1001</td>\n",
       "      <td>9</td>\n",
       "      <td>13314.82</td>\n",
       "      <td>13.002754</td>\n",
       "      <td>14.0</td>\n",
       "    </tr>\n",
       "    <tr>\n",
       "      <th>3</th>\n",
       "      <td>1001</td>\n",
       "      <td>10</td>\n",
       "      <td>22330.49</td>\n",
       "      <td>21.807119</td>\n",
       "      <td>22.0</td>\n",
       "    </tr>\n",
       "    <tr>\n",
       "      <th>4</th>\n",
       "      <td>1001</td>\n",
       "      <td>11</td>\n",
       "      <td>18504.30</td>\n",
       "      <td>18.070605</td>\n",
       "      <td>19.0</td>\n",
       "    </tr>\n",
       "  </tbody>\n",
       "</table>\n",
       "</div>"
      ],
      "text/plain": [
       "   user_id  month   mb_used    gb_used  gb_rounded\n",
       "0     1000     12   1901.47   1.856904         2.0\n",
       "1     1001      8   6919.15   6.756982         7.0\n",
       "2     1001      9  13314.82  13.002754        14.0\n",
       "3     1001     10  22330.49  21.807119        22.0\n",
       "4     1001     11  18504.30  18.070605        19.0"
      ]
     },
     "metadata": {},
     "output_type": "display_data"
    }
   ],
   "source": [
    "# Calculate the volume of internet traffic used by each user per month. Save the result.\n",
    "internet_traffic = internet.pivot_table(index=['user_id', 'month'], values='mb_used', aggfunc='sum').reset_index()\n",
    "\n",
    "# since Megaline charges per gb, and rounds up to the nearest gb, let's create a new column\n",
    "# and convert 'mb_used' to gb, and then round up\n",
    "\n",
    "internet_traffic['gb_used'] = internet_traffic['mb_used'] / 1024\n",
    "\n",
    "\n",
    "# now we will use np.ceil() to round to the nearest whole gb\n",
    "\n",
    "internet_traffic['gb_rounded'] = np.ceil(internet_traffic['gb_used'])\n",
    "\n",
    "display(internet_traffic.head())\n"
   ]
  },
  {
   "cell_type": "markdown",
   "metadata": {},
   "source": [
    "[Put the aggregate data together into one DataFrame so that one record in it would represent what an unique user consumed in a given month.]"
   ]
  },
  {
   "cell_type": "code",
   "execution_count": 29,
   "metadata": {},
   "outputs": [
    {
     "data": {
      "text/html": [
       "<div>\n",
       "<style scoped>\n",
       "    .dataframe tbody tr th:only-of-type {\n",
       "        vertical-align: middle;\n",
       "    }\n",
       "\n",
       "    .dataframe tbody tr th {\n",
       "        vertical-align: top;\n",
       "    }\n",
       "\n",
       "    .dataframe thead th {\n",
       "        text-align: right;\n",
       "    }\n",
       "</style>\n",
       "<table border=\"1\" class=\"dataframe\">\n",
       "  <thead>\n",
       "    <tr style=\"text-align: right;\">\n",
       "      <th></th>\n",
       "      <th>user_id</th>\n",
       "      <th>month</th>\n",
       "      <th>calls_sum</th>\n",
       "      <th>call_minutes</th>\n",
       "      <th>messages_sum</th>\n",
       "      <th>mb_used</th>\n",
       "      <th>gb_used</th>\n",
       "      <th>gb_rounded</th>\n",
       "    </tr>\n",
       "  </thead>\n",
       "  <tbody>\n",
       "    <tr>\n",
       "      <th>0</th>\n",
       "      <td>1000</td>\n",
       "      <td>12</td>\n",
       "      <td>16.0</td>\n",
       "      <td>124.0</td>\n",
       "      <td>11.0</td>\n",
       "      <td>1901.47</td>\n",
       "      <td>1.856904</td>\n",
       "      <td>2.0</td>\n",
       "    </tr>\n",
       "    <tr>\n",
       "      <th>1</th>\n",
       "      <td>1001</td>\n",
       "      <td>8</td>\n",
       "      <td>27.0</td>\n",
       "      <td>182.0</td>\n",
       "      <td>30.0</td>\n",
       "      <td>6919.15</td>\n",
       "      <td>6.756982</td>\n",
       "      <td>7.0</td>\n",
       "    </tr>\n",
       "    <tr>\n",
       "      <th>2</th>\n",
       "      <td>1001</td>\n",
       "      <td>9</td>\n",
       "      <td>49.0</td>\n",
       "      <td>315.0</td>\n",
       "      <td>44.0</td>\n",
       "      <td>13314.82</td>\n",
       "      <td>13.002754</td>\n",
       "      <td>14.0</td>\n",
       "    </tr>\n",
       "    <tr>\n",
       "      <th>3</th>\n",
       "      <td>1001</td>\n",
       "      <td>10</td>\n",
       "      <td>65.0</td>\n",
       "      <td>393.0</td>\n",
       "      <td>53.0</td>\n",
       "      <td>22330.49</td>\n",
       "      <td>21.807119</td>\n",
       "      <td>22.0</td>\n",
       "    </tr>\n",
       "    <tr>\n",
       "      <th>4</th>\n",
       "      <td>1001</td>\n",
       "      <td>11</td>\n",
       "      <td>64.0</td>\n",
       "      <td>426.0</td>\n",
       "      <td>36.0</td>\n",
       "      <td>18504.30</td>\n",
       "      <td>18.070605</td>\n",
       "      <td>19.0</td>\n",
       "    </tr>\n",
       "    <tr>\n",
       "      <th>...</th>\n",
       "      <td>...</td>\n",
       "      <td>...</td>\n",
       "      <td>...</td>\n",
       "      <td>...</td>\n",
       "      <td>...</td>\n",
       "      <td>...</td>\n",
       "      <td>...</td>\n",
       "      <td>...</td>\n",
       "    </tr>\n",
       "    <tr>\n",
       "      <th>2288</th>\n",
       "      <td>1349</td>\n",
       "      <td>12</td>\n",
       "      <td>NaN</td>\n",
       "      <td>NaN</td>\n",
       "      <td>61.0</td>\n",
       "      <td>13039.91</td>\n",
       "      <td>12.734287</td>\n",
       "      <td>13.0</td>\n",
       "    </tr>\n",
       "    <tr>\n",
       "      <th>2289</th>\n",
       "      <td>1361</td>\n",
       "      <td>5</td>\n",
       "      <td>NaN</td>\n",
       "      <td>NaN</td>\n",
       "      <td>2.0</td>\n",
       "      <td>1519.69</td>\n",
       "      <td>1.484072</td>\n",
       "      <td>2.0</td>\n",
       "    </tr>\n",
       "    <tr>\n",
       "      <th>2290</th>\n",
       "      <td>1482</td>\n",
       "      <td>10</td>\n",
       "      <td>NaN</td>\n",
       "      <td>NaN</td>\n",
       "      <td>2.0</td>\n",
       "      <td>NaN</td>\n",
       "      <td>NaN</td>\n",
       "      <td>NaN</td>\n",
       "    </tr>\n",
       "    <tr>\n",
       "      <th>2291</th>\n",
       "      <td>1108</td>\n",
       "      <td>12</td>\n",
       "      <td>NaN</td>\n",
       "      <td>NaN</td>\n",
       "      <td>NaN</td>\n",
       "      <td>233.17</td>\n",
       "      <td>0.227705</td>\n",
       "      <td>1.0</td>\n",
       "    </tr>\n",
       "    <tr>\n",
       "      <th>2292</th>\n",
       "      <td>1311</td>\n",
       "      <td>6</td>\n",
       "      <td>NaN</td>\n",
       "      <td>NaN</td>\n",
       "      <td>NaN</td>\n",
       "      <td>1498.83</td>\n",
       "      <td>1.463701</td>\n",
       "      <td>2.0</td>\n",
       "    </tr>\n",
       "  </tbody>\n",
       "</table>\n",
       "<p>2293 rows × 8 columns</p>\n",
       "</div>"
      ],
      "text/plain": [
       "      user_id  month  calls_sum  call_minutes  messages_sum   mb_used  \\\n",
       "0        1000     12       16.0         124.0          11.0   1901.47   \n",
       "1        1001      8       27.0         182.0          30.0   6919.15   \n",
       "2        1001      9       49.0         315.0          44.0  13314.82   \n",
       "3        1001     10       65.0         393.0          53.0  22330.49   \n",
       "4        1001     11       64.0         426.0          36.0  18504.30   \n",
       "...       ...    ...        ...           ...           ...       ...   \n",
       "2288     1349     12        NaN           NaN          61.0  13039.91   \n",
       "2289     1361      5        NaN           NaN           2.0   1519.69   \n",
       "2290     1482     10        NaN           NaN           2.0       NaN   \n",
       "2291     1108     12        NaN           NaN           NaN    233.17   \n",
       "2292     1311      6        NaN           NaN           NaN   1498.83   \n",
       "\n",
       "        gb_used  gb_rounded  \n",
       "0      1.856904         2.0  \n",
       "1      6.756982         7.0  \n",
       "2     13.002754        14.0  \n",
       "3     21.807119        22.0  \n",
       "4     18.070605        19.0  \n",
       "...         ...         ...  \n",
       "2288  12.734287        13.0  \n",
       "2289   1.484072         2.0  \n",
       "2290        NaN         NaN  \n",
       "2291   0.227705         1.0  \n",
       "2292   1.463701         2.0  \n",
       "\n",
       "[2293 rows x 8 columns]"
      ]
     },
     "metadata": {},
     "output_type": "display_data"
    }
   ],
   "source": [
    "# Merge the data for calls, minutes, messages, internet based on user_id and month\n",
    "\n",
    "call_merge = calls_per_month.merge(minutes_per_month, how='outer', on=['user_id', 'month'])\n",
    "\n",
    "messages_merge = call_merge.merge(messages_per_month, how='outer', on=['user_id', 'month'])\n",
    "\n",
    "internet_merge = messages_merge.merge(internet_traffic, how='outer', on=['user_id', 'month'])\n",
    "\n",
    "display(internet_merge)"
   ]
  },
  {
   "cell_type": "markdown",
   "metadata": {},
   "source": [
    "We have some null values, which makes sense considering some users may not have used a specific service during a month. We can just fill those with 0s, a value that technically makes sense, because there would be 0 calls, minutes, messages or GBs used during that month."
   ]
  },
  {
   "cell_type": "code",
   "execution_count": 30,
   "metadata": {},
   "outputs": [
    {
     "data": {
      "text/html": [
       "<div>\n",
       "<style scoped>\n",
       "    .dataframe tbody tr th:only-of-type {\n",
       "        vertical-align: middle;\n",
       "    }\n",
       "\n",
       "    .dataframe tbody tr th {\n",
       "        vertical-align: top;\n",
       "    }\n",
       "\n",
       "    .dataframe thead th {\n",
       "        text-align: right;\n",
       "    }\n",
       "</style>\n",
       "<table border=\"1\" class=\"dataframe\">\n",
       "  <thead>\n",
       "    <tr style=\"text-align: right;\">\n",
       "      <th></th>\n",
       "      <th>user_id</th>\n",
       "      <th>month</th>\n",
       "      <th>calls_sum</th>\n",
       "      <th>call_minutes</th>\n",
       "      <th>messages_sum</th>\n",
       "      <th>mb_used</th>\n",
       "      <th>gb_used</th>\n",
       "      <th>gb_rounded</th>\n",
       "    </tr>\n",
       "  </thead>\n",
       "  <tbody>\n",
       "    <tr>\n",
       "      <th>0</th>\n",
       "      <td>1000</td>\n",
       "      <td>12</td>\n",
       "      <td>16.0</td>\n",
       "      <td>124.0</td>\n",
       "      <td>11.0</td>\n",
       "      <td>1901.47</td>\n",
       "      <td>1.856904</td>\n",
       "      <td>2.0</td>\n",
       "    </tr>\n",
       "    <tr>\n",
       "      <th>1</th>\n",
       "      <td>1001</td>\n",
       "      <td>8</td>\n",
       "      <td>27.0</td>\n",
       "      <td>182.0</td>\n",
       "      <td>30.0</td>\n",
       "      <td>6919.15</td>\n",
       "      <td>6.756982</td>\n",
       "      <td>7.0</td>\n",
       "    </tr>\n",
       "    <tr>\n",
       "      <th>2</th>\n",
       "      <td>1001</td>\n",
       "      <td>9</td>\n",
       "      <td>49.0</td>\n",
       "      <td>315.0</td>\n",
       "      <td>44.0</td>\n",
       "      <td>13314.82</td>\n",
       "      <td>13.002754</td>\n",
       "      <td>14.0</td>\n",
       "    </tr>\n",
       "    <tr>\n",
       "      <th>3</th>\n",
       "      <td>1001</td>\n",
       "      <td>10</td>\n",
       "      <td>65.0</td>\n",
       "      <td>393.0</td>\n",
       "      <td>53.0</td>\n",
       "      <td>22330.49</td>\n",
       "      <td>21.807119</td>\n",
       "      <td>22.0</td>\n",
       "    </tr>\n",
       "    <tr>\n",
       "      <th>4</th>\n",
       "      <td>1001</td>\n",
       "      <td>11</td>\n",
       "      <td>64.0</td>\n",
       "      <td>426.0</td>\n",
       "      <td>36.0</td>\n",
       "      <td>18504.30</td>\n",
       "      <td>18.070605</td>\n",
       "      <td>19.0</td>\n",
       "    </tr>\n",
       "    <tr>\n",
       "      <th>...</th>\n",
       "      <td>...</td>\n",
       "      <td>...</td>\n",
       "      <td>...</td>\n",
       "      <td>...</td>\n",
       "      <td>...</td>\n",
       "      <td>...</td>\n",
       "      <td>...</td>\n",
       "      <td>...</td>\n",
       "    </tr>\n",
       "    <tr>\n",
       "      <th>2288</th>\n",
       "      <td>1349</td>\n",
       "      <td>12</td>\n",
       "      <td>0.0</td>\n",
       "      <td>0.0</td>\n",
       "      <td>61.0</td>\n",
       "      <td>13039.91</td>\n",
       "      <td>12.734287</td>\n",
       "      <td>13.0</td>\n",
       "    </tr>\n",
       "    <tr>\n",
       "      <th>2289</th>\n",
       "      <td>1361</td>\n",
       "      <td>5</td>\n",
       "      <td>0.0</td>\n",
       "      <td>0.0</td>\n",
       "      <td>2.0</td>\n",
       "      <td>1519.69</td>\n",
       "      <td>1.484072</td>\n",
       "      <td>2.0</td>\n",
       "    </tr>\n",
       "    <tr>\n",
       "      <th>2290</th>\n",
       "      <td>1482</td>\n",
       "      <td>10</td>\n",
       "      <td>0.0</td>\n",
       "      <td>0.0</td>\n",
       "      <td>2.0</td>\n",
       "      <td>0.00</td>\n",
       "      <td>0.000000</td>\n",
       "      <td>0.0</td>\n",
       "    </tr>\n",
       "    <tr>\n",
       "      <th>2291</th>\n",
       "      <td>1108</td>\n",
       "      <td>12</td>\n",
       "      <td>0.0</td>\n",
       "      <td>0.0</td>\n",
       "      <td>0.0</td>\n",
       "      <td>233.17</td>\n",
       "      <td>0.227705</td>\n",
       "      <td>1.0</td>\n",
       "    </tr>\n",
       "    <tr>\n",
       "      <th>2292</th>\n",
       "      <td>1311</td>\n",
       "      <td>6</td>\n",
       "      <td>0.0</td>\n",
       "      <td>0.0</td>\n",
       "      <td>0.0</td>\n",
       "      <td>1498.83</td>\n",
       "      <td>1.463701</td>\n",
       "      <td>2.0</td>\n",
       "    </tr>\n",
       "  </tbody>\n",
       "</table>\n",
       "<p>2293 rows × 8 columns</p>\n",
       "</div>"
      ],
      "text/plain": [
       "      user_id  month  calls_sum  call_minutes  messages_sum   mb_used  \\\n",
       "0        1000     12       16.0         124.0          11.0   1901.47   \n",
       "1        1001      8       27.0         182.0          30.0   6919.15   \n",
       "2        1001      9       49.0         315.0          44.0  13314.82   \n",
       "3        1001     10       65.0         393.0          53.0  22330.49   \n",
       "4        1001     11       64.0         426.0          36.0  18504.30   \n",
       "...       ...    ...        ...           ...           ...       ...   \n",
       "2288     1349     12        0.0           0.0          61.0  13039.91   \n",
       "2289     1361      5        0.0           0.0           2.0   1519.69   \n",
       "2290     1482     10        0.0           0.0           2.0      0.00   \n",
       "2291     1108     12        0.0           0.0           0.0    233.17   \n",
       "2292     1311      6        0.0           0.0           0.0   1498.83   \n",
       "\n",
       "        gb_used  gb_rounded  \n",
       "0      1.856904         2.0  \n",
       "1      6.756982         7.0  \n",
       "2     13.002754        14.0  \n",
       "3     21.807119        22.0  \n",
       "4     18.070605        19.0  \n",
       "...         ...         ...  \n",
       "2288  12.734287        13.0  \n",
       "2289   1.484072         2.0  \n",
       "2290   0.000000         0.0  \n",
       "2291   0.227705         1.0  \n",
       "2292   1.463701         2.0  \n",
       "\n",
       "[2293 rows x 8 columns]"
      ]
     },
     "metadata": {},
     "output_type": "display_data"
    }
   ],
   "source": [
    "internet_merge = internet_merge.fillna(0)\n",
    "\n",
    "display(internet_merge)"
   ]
  },
  {
   "cell_type": "code",
   "execution_count": 31,
   "metadata": {},
   "outputs": [
    {
     "data": {
      "text/html": [
       "<div>\n",
       "<style scoped>\n",
       "    .dataframe tbody tr th:only-of-type {\n",
       "        vertical-align: middle;\n",
       "    }\n",
       "\n",
       "    .dataframe tbody tr th {\n",
       "        vertical-align: top;\n",
       "    }\n",
       "\n",
       "    .dataframe thead th {\n",
       "        text-align: right;\n",
       "    }\n",
       "</style>\n",
       "<table border=\"1\" class=\"dataframe\">\n",
       "  <thead>\n",
       "    <tr style=\"text-align: right;\">\n",
       "      <th></th>\n",
       "      <th></th>\n",
       "      <th>calls_sum</th>\n",
       "      <th>call_minutes</th>\n",
       "      <th>messages_sum</th>\n",
       "      <th>mb_used</th>\n",
       "      <th>gb_used</th>\n",
       "      <th>gb_rounded</th>\n",
       "      <th>plan</th>\n",
       "    </tr>\n",
       "    <tr>\n",
       "      <th>user_id</th>\n",
       "      <th>month</th>\n",
       "      <th></th>\n",
       "      <th></th>\n",
       "      <th></th>\n",
       "      <th></th>\n",
       "      <th></th>\n",
       "      <th></th>\n",
       "      <th></th>\n",
       "    </tr>\n",
       "  </thead>\n",
       "  <tbody>\n",
       "    <tr>\n",
       "      <th>1000</th>\n",
       "      <th>12</th>\n",
       "      <td>16.0</td>\n",
       "      <td>124.0</td>\n",
       "      <td>11.0</td>\n",
       "      <td>1901.47</td>\n",
       "      <td>1.856904</td>\n",
       "      <td>2.0</td>\n",
       "      <td>ultimate</td>\n",
       "    </tr>\n",
       "    <tr>\n",
       "      <th rowspan=\"4\" valign=\"top\">1001</th>\n",
       "      <th>8</th>\n",
       "      <td>27.0</td>\n",
       "      <td>182.0</td>\n",
       "      <td>30.0</td>\n",
       "      <td>6919.15</td>\n",
       "      <td>6.756982</td>\n",
       "      <td>7.0</td>\n",
       "      <td>surf</td>\n",
       "    </tr>\n",
       "    <tr>\n",
       "      <th>9</th>\n",
       "      <td>49.0</td>\n",
       "      <td>315.0</td>\n",
       "      <td>44.0</td>\n",
       "      <td>13314.82</td>\n",
       "      <td>13.002754</td>\n",
       "      <td>14.0</td>\n",
       "      <td>surf</td>\n",
       "    </tr>\n",
       "    <tr>\n",
       "      <th>10</th>\n",
       "      <td>65.0</td>\n",
       "      <td>393.0</td>\n",
       "      <td>53.0</td>\n",
       "      <td>22330.49</td>\n",
       "      <td>21.807119</td>\n",
       "      <td>22.0</td>\n",
       "      <td>surf</td>\n",
       "    </tr>\n",
       "    <tr>\n",
       "      <th>11</th>\n",
       "      <td>64.0</td>\n",
       "      <td>426.0</td>\n",
       "      <td>36.0</td>\n",
       "      <td>18504.30</td>\n",
       "      <td>18.070605</td>\n",
       "      <td>19.0</td>\n",
       "      <td>surf</td>\n",
       "    </tr>\n",
       "  </tbody>\n",
       "</table>\n",
       "</div>"
      ],
      "text/plain": [
       "               calls_sum  call_minutes  messages_sum   mb_used    gb_used  \\\n",
       "user_id month                                                               \n",
       "1000    12          16.0         124.0          11.0   1901.47   1.856904   \n",
       "1001    8           27.0         182.0          30.0   6919.15   6.756982   \n",
       "        9           49.0         315.0          44.0  13314.82  13.002754   \n",
       "        10          65.0         393.0          53.0  22330.49  21.807119   \n",
       "        11          64.0         426.0          36.0  18504.30  18.070605   \n",
       "\n",
       "               gb_rounded      plan  \n",
       "user_id month                        \n",
       "1000    12            2.0  ultimate  \n",
       "1001    8             7.0      surf  \n",
       "        9            14.0      surf  \n",
       "        10           22.0      surf  \n",
       "        11           19.0      surf  "
      ]
     },
     "metadata": {},
     "output_type": "display_data"
    }
   ],
   "source": [
    "# # Add the plan information\n",
    "\n",
    "# we create a new DataFrame called merge_plan to get the values of 'user_id' and 'plan' from the users DataFrame\n",
    "# This will let us merge with the existing DataFrame by having the 'user_id' ready\n",
    "merge_plan = pd.DataFrame({\n",
    "    'user_id':users['user_id'],\n",
    "    'plan':users['plan']\n",
    "})\n",
    "\n",
    "# performing the merge on 'user_id' \n",
    "monthly_customer_data = internet_merge.merge(merge_plan, how='left', on='user_id')\n",
    "\n",
    "# in order to get our data grouped nicely by 'user_id' and 'month', we reset the indexes of the \n",
    "# merged DataFrame to be 'user_id' and 'month'\n",
    "monthly_customer_data = monthly_customer_data.set_index(['user_id', 'month'])\n",
    "\n",
    "display(monthly_customer_data.head())\n",
    "\n"
   ]
  },
  {
   "cell_type": "markdown",
   "metadata": {},
   "source": [
    "[Calculate the monthly revenue from each user (subtract the free package limit from the total number of calls, text messages, and data; multiply the result by the calling plan value; add the monthly charge depending on the calling plan). N.B. This might not be as trivial as just a couple of lines given the plan conditions! So, it's okay to spend some time on it.]"
   ]
  },
  {
   "cell_type": "code",
   "execution_count": 32,
   "metadata": {},
   "outputs": [
    {
     "data": {
      "text/html": [
       "<div>\n",
       "<style scoped>\n",
       "    .dataframe tbody tr th:only-of-type {\n",
       "        vertical-align: middle;\n",
       "    }\n",
       "\n",
       "    .dataframe tbody tr th {\n",
       "        vertical-align: top;\n",
       "    }\n",
       "\n",
       "    .dataframe thead th {\n",
       "        text-align: right;\n",
       "    }\n",
       "</style>\n",
       "<table border=\"1\" class=\"dataframe\">\n",
       "  <thead>\n",
       "    <tr style=\"text-align: right;\">\n",
       "      <th></th>\n",
       "      <th></th>\n",
       "      <th>calls_sum</th>\n",
       "      <th>call_minutes</th>\n",
       "      <th>messages_sum</th>\n",
       "      <th>mb_used</th>\n",
       "      <th>gb_used</th>\n",
       "      <th>gb_rounded</th>\n",
       "      <th>plan</th>\n",
       "      <th>monthly_revenue</th>\n",
       "    </tr>\n",
       "    <tr>\n",
       "      <th>user_id</th>\n",
       "      <th>month</th>\n",
       "      <th></th>\n",
       "      <th></th>\n",
       "      <th></th>\n",
       "      <th></th>\n",
       "      <th></th>\n",
       "      <th></th>\n",
       "      <th></th>\n",
       "      <th></th>\n",
       "    </tr>\n",
       "  </thead>\n",
       "  <tbody>\n",
       "    <tr>\n",
       "      <th>1196</th>\n",
       "      <th>2</th>\n",
       "      <td>78.0</td>\n",
       "      <td>519.0</td>\n",
       "      <td>23.0</td>\n",
       "      <td>20085.20</td>\n",
       "      <td>19.614453</td>\n",
       "      <td>20.0</td>\n",
       "      <td>ultimate</td>\n",
       "      <td>70.00</td>\n",
       "    </tr>\n",
       "    <tr>\n",
       "      <th>1462</th>\n",
       "      <th>11</th>\n",
       "      <td>47.0</td>\n",
       "      <td>340.0</td>\n",
       "      <td>73.0</td>\n",
       "      <td>8576.98</td>\n",
       "      <td>8.375957</td>\n",
       "      <td>9.0</td>\n",
       "      <td>ultimate</td>\n",
       "      <td>70.00</td>\n",
       "    </tr>\n",
       "    <tr>\n",
       "      <th>1044</th>\n",
       "      <th>11</th>\n",
       "      <td>50.0</td>\n",
       "      <td>317.0</td>\n",
       "      <td>37.0</td>\n",
       "      <td>24572.15</td>\n",
       "      <td>23.996240</td>\n",
       "      <td>24.0</td>\n",
       "      <td>surf</td>\n",
       "      <td>110.00</td>\n",
       "    </tr>\n",
       "    <tr>\n",
       "      <th>1246</th>\n",
       "      <th>4</th>\n",
       "      <td>104.0</td>\n",
       "      <td>699.0</td>\n",
       "      <td>19.0</td>\n",
       "      <td>26662.62</td>\n",
       "      <td>26.037715</td>\n",
       "      <td>27.0</td>\n",
       "      <td>ultimate</td>\n",
       "      <td>70.00</td>\n",
       "    </tr>\n",
       "    <tr>\n",
       "      <th>1339</th>\n",
       "      <th>11</th>\n",
       "      <td>1.0</td>\n",
       "      <td>10.0</td>\n",
       "      <td>74.0</td>\n",
       "      <td>3762.38</td>\n",
       "      <td>3.674199</td>\n",
       "      <td>4.0</td>\n",
       "      <td>surf</td>\n",
       "      <td>20.72</td>\n",
       "    </tr>\n",
       "    <tr>\n",
       "      <th>1370</th>\n",
       "      <th>11</th>\n",
       "      <td>100.0</td>\n",
       "      <td>575.0</td>\n",
       "      <td>20.0</td>\n",
       "      <td>13425.23</td>\n",
       "      <td>13.110576</td>\n",
       "      <td>14.0</td>\n",
       "      <td>ultimate</td>\n",
       "      <td>70.00</td>\n",
       "    </tr>\n",
       "    <tr>\n",
       "      <th>1203</th>\n",
       "      <th>3</th>\n",
       "      <td>6.0</td>\n",
       "      <td>40.0</td>\n",
       "      <td>3.0</td>\n",
       "      <td>1248.03</td>\n",
       "      <td>1.218779</td>\n",
       "      <td>2.0</td>\n",
       "      <td>surf</td>\n",
       "      <td>20.00</td>\n",
       "    </tr>\n",
       "    <tr>\n",
       "      <th>1391</th>\n",
       "      <th>12</th>\n",
       "      <td>63.0</td>\n",
       "      <td>431.0</td>\n",
       "      <td>32.0</td>\n",
       "      <td>17510.47</td>\n",
       "      <td>17.100068</td>\n",
       "      <td>18.0</td>\n",
       "      <td>ultimate</td>\n",
       "      <td>70.00</td>\n",
       "    </tr>\n",
       "    <tr>\n",
       "      <th>1117</th>\n",
       "      <th>7</th>\n",
       "      <td>57.0</td>\n",
       "      <td>446.0</td>\n",
       "      <td>0.0</td>\n",
       "      <td>17769.81</td>\n",
       "      <td>17.353330</td>\n",
       "      <td>18.0</td>\n",
       "      <td>surf</td>\n",
       "      <td>50.00</td>\n",
       "    </tr>\n",
       "    <tr>\n",
       "      <th>1300</th>\n",
       "      <th>12</th>\n",
       "      <td>75.0</td>\n",
       "      <td>436.0</td>\n",
       "      <td>0.0</td>\n",
       "      <td>24325.88</td>\n",
       "      <td>23.755742</td>\n",
       "      <td>24.0</td>\n",
       "      <td>surf</td>\n",
       "      <td>110.00</td>\n",
       "    </tr>\n",
       "  </tbody>\n",
       "</table>\n",
       "</div>"
      ],
      "text/plain": [
       "               calls_sum  call_minutes  messages_sum   mb_used    gb_used  \\\n",
       "user_id month                                                               \n",
       "1196    2           78.0         519.0          23.0  20085.20  19.614453   \n",
       "1462    11          47.0         340.0          73.0   8576.98   8.375957   \n",
       "1044    11          50.0         317.0          37.0  24572.15  23.996240   \n",
       "1246    4          104.0         699.0          19.0  26662.62  26.037715   \n",
       "1339    11           1.0          10.0          74.0   3762.38   3.674199   \n",
       "1370    11         100.0         575.0          20.0  13425.23  13.110576   \n",
       "1203    3            6.0          40.0           3.0   1248.03   1.218779   \n",
       "1391    12          63.0         431.0          32.0  17510.47  17.100068   \n",
       "1117    7           57.0         446.0           0.0  17769.81  17.353330   \n",
       "1300    12          75.0         436.0           0.0  24325.88  23.755742   \n",
       "\n",
       "               gb_rounded      plan  monthly_revenue  \n",
       "user_id month                                         \n",
       "1196    2            20.0  ultimate            70.00  \n",
       "1462    11            9.0  ultimate            70.00  \n",
       "1044    11           24.0      surf           110.00  \n",
       "1246    4            27.0  ultimate            70.00  \n",
       "1339    11            4.0      surf            20.72  \n",
       "1370    11           14.0  ultimate            70.00  \n",
       "1203    3             2.0      surf            20.00  \n",
       "1391    12           18.0  ultimate            70.00  \n",
       "1117    7            18.0      surf            50.00  \n",
       "1300    12           24.0      surf           110.00  "
      ]
     },
     "metadata": {},
     "output_type": "display_data"
    }
   ],
   "source": [
    "# Calculate the monthly revenue for each user\n",
    "def calculate_revenue(row):\n",
    "    # intializing all variables\n",
    "    surf_base = 20 # base cost, in dollars\n",
    "    surf_minutes = 500 # base minutes allowed\n",
    "    surf_messages = 50 # base messages allowed\n",
    "    surf_data = 15 # base data usage allowed, in gbs\n",
    "    surf_minute_over = 0.03 # cost per minute over base, in dollars\n",
    "    surf_message_over = 0.03 # cost per message over base, in dollars\n",
    "    surf_data_over = 10 # cost per gb over base, in dollars\n",
    "    \n",
    "    ult_base = 70 # base cost, in dollars\n",
    "    ult_minutes = 3000 # base minutes allowed\n",
    "    ult_messages = 1000 # base messages allowed\n",
    "    ult_data = 30 # base data usage allowed, in gbs\n",
    "    ult_minute_over = 0.01 # cost per minute over base, in dollars\n",
    "    ult_message_over = 0.01 # cost per message over base, in dollars\n",
    "    ult_data_over = 7 # cost per gb over base, in dollars\n",
    "    \n",
    "    revenue = 0\n",
    "    \n",
    "    if(row['plan'] == 'surf'):\n",
    "        # calculating total minutes used, then subtracting from base amout for cost of minutes\n",
    "        charged_minutes = row['call_minutes'] - surf_minutes \n",
    "        if(charged_minutes > 0): # if charged_minutes > 0, we have overages. If < 0, we are within confines of the plan\n",
    "            revenue += charged_minutes * surf_minute_over # if we have overage, we add the overage minutes times the rate\n",
    "                                                          # and add those to the revenue variable\n",
    "        charged_messages = row['messages_sum'] - surf_messages\n",
    "        if(charged_messages > 0):\n",
    "            revenue += charged_messages * surf_message_over\n",
    "        charged_data = row['gb_rounded'] - surf_data\n",
    "        if(charged_data > 0):\n",
    "            revenue += charged_data * surf_data_over\n",
    "        revenue += surf_base\n",
    "    elif(row['plan'] == 'ultimate'):\n",
    "        charged_minutes = row['call_minutes'] - ult_minutes \n",
    "        if(charged_minutes > 0):\n",
    "            revenue += charged_minutes * ult_minute_over\n",
    "        charged_messages = row['messages_sum'] - ult_messages\n",
    "        if(charged_messages > 0):\n",
    "            revenue += charged_messages * ult_message_over\n",
    "        charged_data = row['gb_rounded'] - ult_data\n",
    "        if(charged_data > 0):\n",
    "            revenue += charged_data * ult_data_over\n",
    "        revenue += ult_base\n",
    "        \n",
    "    return revenue\n",
    "\n",
    "# we will create a new column in the monthly_customer_data table by applying the calculate_revenue function\n",
    "# we will apply it with the axis=1 argument, because we want to apply it for each row\n",
    "monthly_customer_data['monthly_revenue'] = monthly_customer_data.apply(calculate_revenue, axis=1)\n",
    "\n",
    "display(monthly_customer_data.sample(10))"
   ]
  },
  {
   "cell_type": "markdown",
   "metadata": {},
   "source": [
    "## Study user behaviour"
   ]
  },
  {
   "cell_type": "markdown",
   "metadata": {},
   "source": [
    "[Calculate some useful descriptive statistics for the aggregated and merged data, which typically reveal an overall picture captured by the data. Draw useful plots to help the understanding. Given that the main task is to compare the plans and decide on which one is more profitable, the statistics and the plots should be calculated on a per-plan basis.]\n",
    "\n",
    "[There are relevant hints in the comments for Calls but they are not provided for Messages and Internet though the principle of statistical study is the same for them as for Calls.]"
   ]
  },
  {
   "cell_type": "markdown",
   "metadata": {},
   "source": [
    "### Calls"
   ]
  },
  {
   "cell_type": "code",
   "execution_count": 33,
   "metadata": {
    "scrolled": true
   },
   "outputs": [
    {
     "data": {
      "image/png": "[encoded data removed]",
      "text/plain": [
       "<Figure size 576x360 with 1 Axes>"
      ]
     },
     "metadata": {
      "needs_background": "light"
     },
     "output_type": "display_data"
    }
   ],
   "source": [
    "# Compare average duration of calls per each plan per each distinct month. Plot a bar plat to visualize it.\n",
    "\n",
    "# creating new data sets for each plan, and resetting the index so we can work with it appropriately\n",
    "surf_calls = monthly_customer_data.query(\"plan == 'surf'\")\n",
    "ult_calls = monthly_customer_data.query(\"plan == 'ultimate'\")\n",
    "\n",
    "# calculating average per plan per month, and converting to dataframe\n",
    "avg_surf_calls = surf_calls.groupby('month')['call_minutes'].mean().to_frame()\n",
    "avg_ult_calls = ult_calls.groupby('month')['call_minutes'].mean().to_frame()\n",
    "\n",
    "# merging avg_surf and avg_ult into one dataframe avg_minutes to plot, and resetting the index\n",
    "# so we have 'month' available\n",
    "avg_minutes = avg_surf_calls.merge(avg_ult_calls, on='month').reset_index()\n",
    "\n",
    "# renaming the columns after the merge so they make sense\n",
    "avg_minutes = avg_minutes.rename(columns={'call_minutes_x': 'Surf Minutes', 'call_minutes_y': 'Ultimate Minutes'})\n",
    "\n",
    "# creating the bar graph\n",
    "avg_minutes.plot.bar(x='month', figsize=(8,5), title='Avg Call Minutes by Month per Plan')\n",
    "\n",
    "plt.ylabel('Average Call Minutes')\n",
    "plt.show()"
   ]
  },
  {
   "cell_type": "markdown",
   "metadata": {},
   "source": [
    "**Observations**\n",
    "\n",
    "In most cases, it seems that the average minute usage between Surf and Ultimate users is roughly the same. Without any biases, I was expecting Ultimate plan users to have a higher average of call minutes per month, just based on the higher plan price, suggesting that they were more frequent users of the services.\n",
    "\n",
    "It doesn't look like the average Ultimate user is getting anywhere near the 3000 minute limit of the Ultimate plan. \n",
    "\n",
    "Perhaps the Ultimate users are getting their money's worth from other services of the plan?"
   ]
  },
  {
   "cell_type": "code",
   "execution_count": 34,
   "metadata": {},
   "outputs": [],
   "source": [
    "monthly_customer_data_copy = monthly_customer_data.reset_index()"
   ]
  },
  {
   "cell_type": "code",
   "execution_count": 35,
   "metadata": {},
   "outputs": [
    {
     "data": {
      "image/png": "[encoded data removed]",
      "text/plain": [
       "<Figure size 864x432 with 1 Axes>"
      ]
     },
     "metadata": {
      "needs_background": "light"
     },
     "output_type": "display_data"
    }
   ],
   "source": [
    "# Compare the number of minutes users of each plan require each month. Plot a histogram.\n",
    "\n",
    "# Generating a new dataset to just have the minutes per month values for each user for each plan\n",
    "surf_calls_minutes = monthly_customer_data_copy[monthly_customer_data_copy['plan'] == 'surf']['call_minutes']\n",
    "surf_calls_minutes = surf_calls_minutes.reset_index(drop=True)\n",
    "\n",
    "ult_calls_minutes = monthly_customer_data_copy[monthly_customer_data_copy['plan'] == 'ultimate']['call_minutes']\n",
    "ult_calls_minutes = ult_calls_minutes.reset_index(drop=True)\n",
    "\n",
    "surf_calls_minutes.plot(kind='hist',\n",
    "                        title='Distribution of Minutes Used Per Month',\n",
    "                        alpha=0.5,\n",
    "                        bins=[0, 100, 200, 300, 400, 500, 600, 700, 800, 900, 1000, 1100, 1200, 1300, 1400, 1500],\n",
    "                        edgecolor='black',\n",
    "                        figsize=(12, 6))\n",
    "ult_calls_minutes.plot(kind='hist',\n",
    "                       alpha=0.5,\n",
    "                       bins=[0, 100, 200, 300, 400, 500, 600, 700, 800, 900, 1000, 1100, 1200, 1300, 1400, 1500],\n",
    "                       edgecolor='black')\n",
    "\n",
    "plt.legend(['Surf', 'Ultimate'])\n",
    "plt.xlabel('Number of Minutes Used Per Month')\n",
    "plt.show()\n",
    "                        "
   ]
  },
  {
   "cell_type": "markdown",
   "metadata": {},
   "source": [
    "**Observations** \n",
    "\n",
    "From this distribution, we can estimate that both the Surf and Ultimate users are using around 400 minutes of calls per month. There are certainly more Surf users compared to Ultimate users, but the overall distribution of how long they are spending in calls doesn't seem to be very different at all."
   ]
  },
  {
   "cell_type": "markdown",
   "metadata": {},
   "source": [
    "[Calculate the mean and the variable of the call duration to reason on whether users on the different plans have different behaviours for their calls.]"
   ]
  },
  {
   "cell_type": "code",
   "execution_count": 36,
   "metadata": {},
   "outputs": [
    {
     "name": "stdout",
     "output_type": "stream",
     "text": [
      "surf_var_calls = 54933.334591317485  || ult_var_calls = 57764.12527777777\n",
      "surf_mean_calls = 428.7495232040687  || ult_mean_calls = 430.45\n"
     ]
    }
   ],
   "source": [
    "# Calculate the mean and the variance of the monthly call duration\n",
    "\n",
    "surf_var_calls = np.var(surf_calls_minutes)\n",
    "ult_var_calls = np.var(ult_calls_minutes)\n",
    "\n",
    "print(\"surf_var_calls =\", surf_var_calls, \" || ult_var_calls =\", ult_var_calls)\n",
    "\n",
    "surf_mean_calls = surf_calls_minutes.mean()\n",
    "ult_mean_calls = ult_calls_minutes.mean()\n",
    "\n",
    "print(\"surf_mean_calls =\", surf_mean_calls, \" || ult_mean_calls =\", ult_mean_calls)\n"
   ]
  },
  {
   "cell_type": "code",
   "execution_count": 37,
   "metadata": {},
   "outputs": [
    {
     "data": {
      "image/png": "[encoded data removed]",
      "text/plain": [
       "<Figure size 1296x288 with 1 Axes>"
      ]
     },
     "metadata": {},
     "output_type": "display_data"
    }
   ],
   "source": [
    "# Plot a boxplot to visualize the distribution of the monthly call duration\n",
    "\n",
    "# plt.boxplot([surf_calls_minutes, ult_calls_minutes], labels=['Surf', 'Ultimate'], vert=False)\n",
    "sns.set(rc={'figure.figsize':(18, 4)}, style='white')\n",
    "sns.boxplot(data=[surf_calls_minutes, ult_calls_minutes],\n",
    "            orient='h').set(xlabel='Number of Minutes Used Per Month')\n",
    "\n",
    "\n",
    "plt.xticks(np.arange(0, 1700, step=100))\n",
    "plt.yticks([0,1], labels=['Surf', 'Ultimate'])\n",
    "plt.show()"
   ]
  },
  {
   "cell_type": "markdown",
   "metadata": {},
   "source": [
    "**Observations**\n",
    "\n",
    "Seeing the boxplot distribution, we can safely conclude that the behaviors of users between the two plan types are quite similar. Means are almost the same, quartiles are nearly the same, and the range is nearly the same. Surf seems to have more outliers, which could also just be from there being more data from Surf users. "
   ]
  },
  {
   "cell_type": "markdown",
   "metadata": {},
   "source": [
    " "
   ]
  },
  {
   "cell_type": "markdown",
   "metadata": {},
   "source": [
    "### Messages"
   ]
  },
  {
   "cell_type": "code",
   "execution_count": 38,
   "metadata": {},
   "outputs": [
    {
     "data": {
      "image/png": "[encoded data removed]",
      "text/plain": [
       "<Figure size 576x360 with 1 Axes>"
      ]
     },
     "metadata": {},
     "output_type": "display_data"
    }
   ],
   "source": [
    "# Compare the number of messages users of each plan tend to send each month\n",
    "\n",
    "# creating new data sets for each plan, and resetting the index so we can work with it appropriately\n",
    "surf_messages = monthly_customer_data.query(\"plan == 'surf'\")\n",
    "ult_messages = monthly_customer_data.query(\"plan == 'ultimate'\")\n",
    "\n",
    "# calculating average per plan per month, and converting to dataframe\n",
    "avg_surf_messages = surf_messages.groupby('month')['messages_sum'].mean().to_frame()\n",
    "avg_ult_messages = ult_messages.groupby('month')['messages_sum'].mean().to_frame()\n",
    "\n",
    "# merging avg_surf_messages and avg_ult_messages into one dataframe avg_messages to plot, and resetting the index\n",
    "# so we have 'month' available\n",
    "avg_messages = avg_surf_messages.merge(avg_ult_messages, on='month').reset_index()\n",
    "\n",
    "# renaming the columns after the merge so they make sense\n",
    "avg_messages = avg_messages.rename(columns={'messages_sum_x': 'Surf Messages', 'messages_sum_y': 'Ultimate Messages'})\n",
    "\n",
    "# creating the bar graph\n",
    "avg_messages.plot.bar(x='month', figsize=(8,5), title='Avg Sent Messages by Month per Plan')\n",
    "\n",
    "plt.ylabel('Average Sent Messages')\n",
    "plt.show()"
   ]
  },
  {
   "cell_type": "markdown",
   "metadata": {},
   "source": [
    "**Observations**\n",
    "\n",
    "Here, we can see a distinct difference in the average messages per plan type. Unlike the call minutes where things were quite similar, Ultimate users have a higher average message count for every single month. This may be where users are getting their money's worth by paying for Ultimate."
   ]
  },
  {
   "cell_type": "code",
   "execution_count": 39,
   "metadata": {},
   "outputs": [
    {
     "data": {
      "image/png": "[encoded data removed]",
      "text/plain": [
       "<Figure size 864x432 with 1 Axes>"
      ]
     },
     "metadata": {},
     "output_type": "display_data"
    }
   ],
   "source": [
    "# Compare the number of messages users of each plan require each month. Plot a histogram.\n",
    "\n",
    "# Generating a new dataset to just have the minutes per month values for each user for each plan\n",
    "surf_message_dist = monthly_customer_data_copy[monthly_customer_data_copy['plan'] == 'surf']['messages_sum']\n",
    "surf_message_dist = surf_message_dist.reset_index(drop=True)\n",
    "\n",
    "ult_message_dist = monthly_customer_data_copy[monthly_customer_data_copy['plan'] == 'ultimate']['messages_sum']\n",
    "ult_message_dist = ult_message_dist.reset_index(drop=True)\n",
    "\n",
    "\n",
    "surf_message_dist.plot(kind='hist',\n",
    "                        title='Distribution of Messages Sent Per Month',\n",
    "                        alpha=0.5,\n",
    "                        bins=[0, 25, 50, 75, 100, 125, 150, 175, 200],\n",
    "                        edgecolor='black',\n",
    "                        figsize=(12, 6))\n",
    "ult_message_dist.plot(kind='hist',\n",
    "                        alpha=0.5,\n",
    "                        bins=[0, 25, 50, 75, 100, 125, 150, 175, 200],\n",
    "                        edgecolor='black')\n",
    "\n",
    "plt.legend(['Surf', 'Ultimate'])\n",
    "plt.xlabel('Number of Messages Sent Per Month')\n",
    "plt.show()\n",
    "                        \n"
   ]
  },
  {
   "cell_type": "code",
   "execution_count": 40,
   "metadata": {},
   "outputs": [
    {
     "name": "stdout",
     "output_type": "stream",
     "text": [
      "surf_mean_messages = 31.15956770502225  || ult_mean_messages = 37.55138888888889\n",
      "surf_var_messages = 1126.008231726662  || ult_var_messages = 1207.0779147376545\n"
     ]
    }
   ],
   "source": [
    "# Calculate the mean and the variance of the monthly call duration\n",
    "surf_var_messages = np.var(surf_message_dist)\n",
    "surf_mean_messages = surf_message_dist.mean()\n",
    "\n",
    "ult_var_messages = np.var(ult_message_dist)\n",
    "ult_mean_messages = ult_message_dist.mean()\n",
    "\n",
    "print(\"surf_mean_messages =\", surf_mean_messages, \" || ult_mean_messages =\", ult_mean_messages)\n",
    "print(\"surf_var_messages =\", surf_var_messages, \" || ult_var_messages =\", ult_var_messages)\n"
   ]
  },
  {
   "cell_type": "code",
   "execution_count": 41,
   "metadata": {},
   "outputs": [
    {
     "data": {
      "image/png": "[encoded data removed]",
      "text/plain": [
       "<Figure size 1296x288 with 1 Axes>"
      ]
     },
     "metadata": {},
     "output_type": "display_data"
    }
   ],
   "source": [
    "# Plot a boxplot to visualize the distribution of the monthly call duration\n",
    "\n",
    "sns.set(rc={'figure.figsize':(18, 4)}, style='white')\n",
    "sns.boxplot(data=[surf_message_dist, ult_message_dist],\n",
    "            orient='h').set(xlabel='Number of Messages Sent Per Month')\n",
    "\n",
    "\n",
    "plt.xticks(np.arange(0, 300, step=15))\n",
    "plt.yticks([0,1], labels=['Surf', 'Ultimate'])\n",
    "plt.show()"
   ]
  },
  {
   "cell_type": "markdown",
   "metadata": {},
   "source": [
    "**Observations**\n",
    "\n",
    "We can see the clear pattern that the Ultimate users are more frequently sending messages, and more of them. The average messages per month is higher for Ultimate users every month. Where the distribution of messages sent per Surf users quickly drops off at around 50 according to the histogram, Ultimate users continue to send more, until they taper off more towards the 75/100 message range. \n",
    "\n",
    "Looking at the mean and boxplot continues to tell the same story. Ultimate users are sending more messages than their Surf user counterparts. "
   ]
  },
  {
   "cell_type": "markdown",
   "metadata": {},
   "source": [
    " "
   ]
  },
  {
   "cell_type": "markdown",
   "metadata": {},
   "source": [
    "### Internet"
   ]
  },
  {
   "cell_type": "code",
   "execution_count": 42,
   "metadata": {},
   "outputs": [
    {
     "data": {
      "image/png": "[encoded data removed]",
      "text/plain": [
       "<Figure size 576x360 with 1 Axes>"
      ]
     },
     "metadata": {},
     "output_type": "display_data"
    }
   ],
   "source": [
    "# Compare the amount of internet traffic consumed by users per plan\n",
    "\n",
    "# creating new data sets for each plan, and resetting the index so we can work with it appropriately\n",
    "surf_internet = monthly_customer_data.query(\"plan == 'surf'\")\n",
    "ult_internet = monthly_customer_data.query(\"plan == 'ultimate'\")\n",
    "\n",
    "# calculating average per plan per month, and converting to dataframe\n",
    "avg_surf_internet = surf_internet.groupby('month')['gb_rounded'].mean().to_frame()\n",
    "avg_ult_internet = ult_internet.groupby('month')['gb_rounded'].mean().to_frame()\n",
    "\n",
    "# merging avg_surf_messages and avg_ult_messages into one dataframe avg_messages to plot, and resetting the index\n",
    "# so we have 'month' available\n",
    "avg_internet = avg_surf_internet.merge(avg_ult_internet, on='month').reset_index()\n",
    "\n",
    "# renaming the columns after the merge so they make sense\n",
    "avg_internet = avg_internet.rename(columns={'gb_rounded_x': 'Surf Internet', 'gb_rounded_y': 'Ultimate Internet'})\n",
    "\n",
    "# creating the bar graph\n",
    "avg_internet.plot.bar(x='month', figsize=(8,5), title='Avg Internet Usages (GB) by Month per Plan')\n",
    "\n",
    "plt.legend(bbox_to_anchor=(1.35, 1.0), loc='upper right')\n",
    "plt.ylabel('Average Internet Usage (GB)')\n",
    "plt.show()"
   ]
  },
  {
   "cell_type": "code",
   "execution_count": 43,
   "metadata": {},
   "outputs": [
    {
     "data": {
      "image/png": "[encoded data removed]",
      "text/plain": [
       "<Figure size 864x432 with 1 Axes>"
      ]
     },
     "metadata": {},
     "output_type": "display_data"
    }
   ],
   "source": [
    "# Compare the number of messages users of each plan require each month. Plot a histogram.\n",
    "\n",
    "# Generating a new dataset to just have the minutes per month values for each user for each plan\n",
    "surf_internet_dist = monthly_customer_data_copy[monthly_customer_data_copy['plan'] == 'surf']['gb_rounded']\n",
    "surf_internet_dist = surf_internet_dist.reset_index(drop=True)\n",
    "\n",
    "ult_internet_dist = monthly_customer_data_copy[monthly_customer_data_copy['plan'] == 'ultimate']['gb_rounded']\n",
    "ult_internet_dist = ult_internet_dist.reset_index(drop=True)\n",
    "\n",
    "\n",
    "surf_internet_dist.plot(kind='hist',\n",
    "                        title='Distribution of Internet Usages (GB) Per Month',\n",
    "                        alpha=0.5,\n",
    "                        bins=[0, 5, 10, 15, 20, 25, 30, 35, 40, 45, 50, 55, 60, 65, 70],\n",
    "                        edgecolor='black',\n",
    "                        figsize=(12, 6))\n",
    "ult_internet_dist.plot(kind='hist',\n",
    "                        alpha=0.5,\n",
    "                        bins=[0, 5, 10, 15, 20, 25, 30, 35, 40, 45, 50, 55, 60, 65, 70],\n",
    "                        edgecolor='black')\n",
    "\n",
    "plt.legend(['Surf', 'Ultimate'])\n",
    "plt.xlabel('Internet Usage (GB) Per Month')\n",
    "plt.show()\n",
    "                        \n"
   ]
  },
  {
   "cell_type": "code",
   "execution_count": 44,
   "metadata": {},
   "outputs": [
    {
     "name": "stdout",
     "output_type": "stream",
     "text": [
      "surf_mean_internet = 16.670692943420217  || ult_mean_internet = 17.306944444444444\n",
      "surf_var_internet = 61.54444942447023  || ult_var_internet = 58.748840663580246\n"
     ]
    }
   ],
   "source": [
    "# Calculate the mean and the variance of the monthly call duration\n",
    "surf_var_internet = np.var(surf_internet_dist)\n",
    "surf_mean_internet = surf_internet_dist.mean()\n",
    "\n",
    "ult_var_internet = np.var(ult_internet_dist)\n",
    "ult_mean_internet = ult_internet_dist.mean()\n",
    "\n",
    "print(\"surf_mean_internet =\", surf_mean_internet, \" || ult_mean_internet =\", ult_mean_internet)\n",
    "print(\"surf_var_internet =\", surf_var_internet, \" || ult_var_internet =\", ult_var_internet)\n"
   ]
  },
  {
   "cell_type": "code",
   "execution_count": 45,
   "metadata": {},
   "outputs": [
    {
     "data": {
      "image/png": "[encoded data removed]",
      "text/plain": [
       "<Figure size 1296x288 with 1 Axes>"
      ]
     },
     "metadata": {},
     "output_type": "display_data"
    }
   ],
   "source": [
    "# Plot a boxplot to visualize the distribution of the monthly call duration\n",
    "\n",
    "sns.set(rc={'figure.figsize':(18, 4)}, style='white')\n",
    "sns.boxplot(data=[surf_internet_dist, ult_internet_dist],\n",
    "            orient='h').set(xlabel='Number of Messages Sent Per Month')\n",
    "\n",
    "\n",
    "plt.xticks(np.arange(0, 80, step=5))\n",
    "plt.yticks([0,1], labels=['Surf', 'Ultimate'])\n",
    "plt.show()"
   ]
  },
  {
   "cell_type": "markdown",
   "metadata": {},
   "source": [
    "**Observations**\n",
    "\n",
    "The data is not supporting a conclusion on whether Ultimate or Surf customers are using more data than the other plan type. We can see a slight advantage to Ultimate users in average GB usage in the earlier months, but it evens out as the year advances. The distribution of internet usage between the two plans seems quite similar. \n",
    "\n",
    "When we look at the mean, Ultimate users have a slight edge of 0.7 GB over Surf users, but it's not a large difference. Looking at the box plot, we can see the same story that the rest of the data told -- these figures are roughly the same between the two Plan types. "
   ]
  },
  {
   "cell_type": "markdown",
   "metadata": {},
   "source": [
    " "
   ]
  },
  {
   "cell_type": "markdown",
   "metadata": {},
   "source": [
    "## Revenue"
   ]
  },
  {
   "cell_type": "markdown",
   "metadata": {},
   "source": [
    "[Likewise you have studied the user behaviour, statistically describe the revenue between the plans.]"
   ]
  },
  {
   "cell_type": "code",
   "execution_count": 46,
   "metadata": {},
   "outputs": [
    {
     "data": {
      "image/png": "[encoded data removed]",
      "text/plain": [
       "<Figure size 576x360 with 1 Axes>"
      ]
     },
     "metadata": {},
     "output_type": "display_data"
    }
   ],
   "source": [
    "# Compare the revenue of users per plan\n",
    "\n",
    "# creating new data sets for each plan, and resetting the index so we can work with it appropriately\n",
    "surf_revenue = monthly_customer_data.query(\"plan == 'surf'\")\n",
    "ult_revenue = monthly_customer_data.query(\"plan == 'ultimate'\")\n",
    "\n",
    "# calculating average per plan per month, and converting to dataframe\n",
    "avg_surf_revenue = surf_revenue.groupby('month')['monthly_revenue'].mean().to_frame()\n",
    "avg_ult_revenue = ult_revenue.groupby('month')['monthly_revenue'].mean().to_frame()\n",
    "\n",
    "# merging avg_surf_messages and avg_ult_messages into one dataframe avg_messages to plot, and resetting the index\n",
    "# so we have 'month' available\n",
    "avg_revenue = avg_surf_revenue.merge(avg_ult_revenue, on='month').reset_index()\n",
    "\n",
    "# renaming the columns after the merge so they make sense\n",
    "avg_revenue = avg_revenue.rename(columns={'monthly_revenue_x': 'Surf Revenue', 'monthly_revenue': 'Ultimate Revenue'})\n",
    "\n",
    "# creating the bar graph\n",
    "avg_revenue.plot.bar(x='month', figsize=(8,5), title='Avg Revenue by Month per Plan')\n",
    "\n",
    "plt.legend(bbox_to_anchor=(1.35, 1.0), loc='upper right')\n",
    "plt.ylabel('Average Revenue ($)')\n",
    "plt.show()"
   ]
  },
  {
   "cell_type": "code",
   "execution_count": 47,
   "metadata": {},
   "outputs": [
    {
     "data": {
      "image/png": "[encoded data removed]",
      "text/plain": [
       "<Figure size 864x432 with 1 Axes>"
      ]
     },
     "metadata": {},
     "output_type": "display_data"
    }
   ],
   "source": [
    "# Compare the number of messages users of each plan require each month. Plot a histogram.\n",
    "\n",
    "# Generating a new dataset to just have the minutes per month values for each user for each plan\n",
    "surf_revenue_dist = monthly_customer_data_copy[monthly_customer_data_copy['plan'] == 'surf']['monthly_revenue']\n",
    "surf_revenue_dist = surf_revenue_dist.reset_index(drop=True)\n",
    "\n",
    "ult_revenue_dist = monthly_customer_data_copy[monthly_customer_data_copy['plan'] == 'ultimate']['monthly_revenue']\n",
    "ult_revenue_dist = ult_revenue_dist.reset_index(drop=True)\n",
    "\n",
    "\n",
    "surf_revenue_dist.plot(kind='hist',\n",
    "                        title='Distribution of Internet Usages (GB) Per Month',\n",
    "                        alpha=0.5,\n",
    "                        bins=[20, 25, 30, 35, 40, 45, 50, 55, 60, 65, 70, 75, 80, 85, 90],\n",
    "                        edgecolor='black',\n",
    "                        figsize=(12, 6))\n",
    "ult_revenue_dist.plot(kind='hist',\n",
    "                        alpha=0.5,\n",
    "                        bins=[20, 25, 30, 35, 40, 45, 50, 55, 60, 65, 70, 75, 80, 85, 90],\n",
    "                        edgecolor='black')\n",
    "\n",
    "plt.legend(['Surf', 'Ultimate'])\n",
    "plt.xlabel('Revenue ($) Per Month')\n",
    "plt.show()\n",
    "                        \n"
   ]
  },
  {
   "cell_type": "code",
   "execution_count": 48,
   "metadata": {},
   "outputs": [
    {
     "name": "stdout",
     "output_type": "stream",
     "text": [
      "surf_mean_revenue = 60.706408137317226  || ult_mean_revenue = 72.31388888888888\n",
      "surf_var_revenue = 3065.8848438690247  || ult_var_revenue = 129.66814043209877\n"
     ]
    }
   ],
   "source": [
    "# Calculate the mean and the variance of the monthly call duration\n",
    "surf_var_revenue = np.var(surf_revenue_dist)\n",
    "surf_mean_revenue = surf_revenue_dist.mean()\n",
    "\n",
    "ult_var_revenue = np.var(ult_revenue_dist)\n",
    "ult_mean_revenue = ult_revenue_dist.mean()\n",
    "\n",
    "print(\"surf_mean_revenue =\", surf_mean_revenue, \" || ult_mean_revenue =\", ult_mean_revenue)\n",
    "print(\"surf_var_revenue =\", surf_var_revenue, \" || ult_var_revenue =\", ult_var_revenue)\n"
   ]
  },
  {
   "cell_type": "code",
   "execution_count": 49,
   "metadata": {},
   "outputs": [
    {
     "data": {
      "image/png": "[encoded data removed]",
      "text/plain": [
       "<Figure size 1296x288 with 1 Axes>"
      ]
     },
     "metadata": {},
     "output_type": "display_data"
    }
   ],
   "source": [
    "# Plot a boxplot to visualize the distribution of the monthly call duration\n",
    "\n",
    "sns.set(rc={'figure.figsize':(18, 4)}, style='white')\n",
    "sns.boxplot(data=[surf_revenue_dist, ult_revenue_dist],\n",
    "            orient='h').set(xlabel='Revenue ($) Per Month')\n",
    "\n",
    "\n",
    "plt.yticks([0,1], labels=['Surf', 'Ultimate'])\n",
    "plt.show()"
   ]
  },
  {
   "cell_type": "markdown",
   "metadata": {},
   "source": [
    "**Observations** \n",
    "\n",
    "When looking at this data from a revenue standpoint, we can likely interpret that the most consistent money-maker is the Ultimate plan. It has higher average revenue per month for every month of the year. Its mean is \\$12 higher than the Surf plan, and its variance (and ultimately, standard deviation) is incredibly low, proving its consistency. \n",
    "\n",
    "One thing to note, it is very rare that customers use more than the allotted services under the Ultimate plan, so most customers end up generating right around \\$70 per month, and not more. \n",
    "\n",
    "The Surf plan has a few crazy high outliers, with a couple of them between the $500-600 range."
   ]
  },
  {
   "cell_type": "markdown",
   "metadata": {},
   "source": [
    " "
   ]
  },
  {
   "cell_type": "markdown",
   "metadata": {},
   "source": [
    "## Test statistical hypotheses"
   ]
  },
  {
   "cell_type": "markdown",
   "metadata": {},
   "source": [
    "[Test the hypothesis that the average revenue from users of the Ultimate and Surf calling plans differs.]"
   ]
  },
  {
   "cell_type": "markdown",
   "metadata": {},
   "source": [
    "[Formulate the null and the alternative hypotheses, choose the statistical test, decide on the alpha value.]"
   ]
  },
  {
   "cell_type": "code",
   "execution_count": 50,
   "metadata": {},
   "outputs": [
    {
     "name": "stdout",
     "output_type": "stream",
     "text": [
      "p-value: 3.17039054811355e-15\n",
      "We reject the null hypothesis\n"
     ]
    }
   ],
   "source": [
    "# Test the hypotheses\n",
    "\n",
    "# The null hypothesis will be that the average revenue between users of Ultimate and Surf plans are the same\n",
    "# The alternative hypothesis will be that the average revenue between users of Ultimate and Surf plans are different\n",
    "\n",
    "# We will be using scipy.stats.ttest_ind to test the two samples for any statistically significant differences\n",
    "\n",
    "surf_users = monthly_customer_data.query(\"plan == 'surf'\")['monthly_revenue']\n",
    "ult_users = monthly_customer_data.query(\"plan == 'ultimate'\")['monthly_revenue']\n",
    "\n",
    "alpha = 0.05 # setting our critical statistical significance level\n",
    "\n",
    "# test the hypothesis that the means of the two independent populations are equal\n",
    "results = st.ttest_ind(surf_users, ult_users, equal_var=False) \n",
    "\n",
    "print('p-value:', results.pvalue) \n",
    "\n",
    "# compare the p-value you get with the significance level\n",
    "if (results.pvalue < alpha): \n",
    "    print(\"We reject the null hypothesis\")\n",
    "else:\n",
    "    print(\"We can't reject the null hypothesis\")\n"
   ]
  },
  {
   "cell_type": "markdown",
   "metadata": {},
   "source": [
    "**Observations**\n",
    "\n",
    "Since we have rejected the null hypothesis, we now know that the mean revenue values between the Ultimate and Surf plans are in fact different. "
   ]
  },
  {
   "cell_type": "markdown",
   "metadata": {},
   "source": [
    "[Test the hypothesis that the average revenue from users in the NY-NJ area is different from that of the users from the other regions.]"
   ]
  },
  {
   "cell_type": "markdown",
   "metadata": {},
   "source": [
    "[Formulate the null and the alternative hypotheses, choose the statistical test, decide on the alpha value.]"
   ]
  },
  {
   "cell_type": "code",
   "execution_count": 51,
   "metadata": {},
   "outputs": [
    {
     "name": "stdout",
     "output_type": "stream",
     "text": [
      "p-value: 0.03352561588530014\n",
      "We reject the null hypothesis\n"
     ]
    }
   ],
   "source": [
    "# Test the hypotheses\n",
    "\n",
    "# The null hypothesis will be that the avg revenue from NY-NJ users is not different than those of other regions\n",
    "# The alternate hypothesis will be that the avg revenue from NY-NJ users is different than those of other regions\n",
    "\n",
    "# first we need to add the region info to our monthly_customer_data DataFrame\n",
    "\n",
    "users_region = pd.DataFrame({\n",
    "    'user_id': users['user_id'],\n",
    "    'region': users['city']\n",
    "})\n",
    "\n",
    "# Now we will merge users_region into monthly_customer_data\n",
    "\n",
    "monthly_customer_data = monthly_customer_data.merge(users_region, how='left', on='user_id')\n",
    "\n",
    "# Creating our samples for testing\n",
    "ny_nj_region = monthly_customer_data[monthly_customer_data['region'].str.contains('NY-NJ', regex=False)]['monthly_revenue']\n",
    "other_region = monthly_customer_data[~monthly_customer_data['region'].str.contains('NY-NJ', regex=False)]['monthly_revenue']\n",
    "\n",
    "\n",
    "alpha = 0.05 # setting our critical statistical significance level\n",
    "\n",
    "# testing the hypothesis that the means are equal \n",
    "results_test_2 = st.ttest_ind(ny_nj_region, other_region, equal_var=False)\n",
    "\n",
    "print('p-value:', results_test_2.pvalue)\n",
    "\n",
    "if (results.pvalue < alpha): \n",
    "    print(\"We reject the null hypothesis\")\n",
    "else:\n",
    "    print(\"We can't reject the null hypothesis\")"
   ]
  },
  {
   "cell_type": "markdown",
   "metadata": {},
   "source": [
    "**Observations** \n",
    "\n",
    "We have rejected the null hypothesis that the average revenue of the NY-NJ region is not different than the average revenue from other regions. This does not mean we can confirm it is higher or lower, but there is not evidence to support the claim that it is the same. "
   ]
  },
  {
   "cell_type": "markdown",
   "metadata": {},
   "source": [
    "## General conclusion\n",
    "\n",
    "[List your important conclusions in this final section, make sure they cover all those important decisions (assumptions) that you've made and that led you to the way you processed and analyzed the data.]\n",
    "\n",
    "Throughout this project, we heavily dove into some data for the Megaline company, and how their customers use their services. We first analyzed the calls that each user made. We discovered that on average, both Surf and Ultimate customers had roughly the same amount of minutes used per month. When we looked into the minute distribution with a histogram and boxplot, the same story was told: there is not a significant difference between Surf users and Ultimate users, when we are talking about calls.\n",
    "\n",
    "Moving into messages, we began to see where the Ultimate users were pulling ahead. Every single month, Ultimate users averaged more messages sent than Surf users. When we looked at the distribution on the histogram, there was a steep decline in occurrences of Surf users having more than 50 messages. A similar level of delice was not noticed for Ultimate users until between the 75-100 message point. The mean of Ultimate messages was 37.5, where it was 31.2 for the Surf users. The Surf user average is almost 17% less than the Ultimate users, which is pretty significant. The boxplot shows the same, but does have a considerable amount of outliers for the Surf plan.\n",
    "\n",
    "When we look at the internet usage, we are seeing a similar outcome of the calls data. Between the averages per month, distributions, and mean values, we aren't able to discern any key differences between the two plans. Internet usages between Surf and Ultimate users is roughly the same.\n",
    "\n",
    "Moving on to the revenue, we saw that the average monthly revenue was higher for the Ultimate customers for every single month of the year. The largest majority of Surf users paid the plan price only of 20, and an overwhelming majority of Ultimate users paid the plan price of 70 and nothing extra. Looking at the mean values, the mean revenue for Ultimate users was 72.31, and 60.71 for Surf users. The variance for Ultimate users was only 129.67, which paints a picture of very little fluctuation in the amount that Ultimate users pay. Variance for Surf was 3065.89, which is pretty supported by the rest of the data, seeing all the outliers combined with the very low allowance of services for Surf users. \n",
    "\n",
    "We were able to reject the null hypothesis that the average revenue between plans was the same. That doesn't tell us which is the better plan though. But we have enough data to at least make an educated guess here. \n",
    "\n",
    "In our sample of 500 customers, we have 339 users on the Surf plan and 161 users on the Ultimate plan. We know the mean monthly revenue per plan type, so that gives us:\n",
    "\n",
    "339 Surf users x 60.71 (average revenue per month for Surf) = 20,580.69 average, per month\n",
    "\n",
    "161 Ultimate users x 72.31 (average revenue per month for Ultimate) = 11,641.91 average, per month\n",
    "\n",
    "If we are looking strictly at averages, the Surf plan tends to make the company more money. I think this makes sense. The Surf plan has very low allowances and higher premiums for additional services over the limit. Its low cost of entry is relying on customers using up their allowances of services, and needing to pay that higher premium when they go over. \n",
    "\n",
    "The Ultimate plan has a much higher cost of entry, but gives users the freedom to use (almost) as much as they want without having to pay extra. We can see this in action because the average revenue per Ultimate user is 72.31, which is just 2 over the plan cost of 70, where the average revenue for Surf is 60.71, which is a whopping 40 over the plan cost of 20. \n",
    "\n",
    "As long as customers continue to purchase the Surf plan with its low cost of entry and high premiums for extras, I believe it will continue to be the higher revenue generating plan."
   ]
  }
 ],
 "metadata": {
  "ExecuteTimeLog": [
   {
    "duration": 828,
    "start_time": "2021-11-16T09:21:11.304Z"
   },
   {
    "duration": 893,
    "start_time": "2021-11-16T09:21:17.728Z"
   },
   {
    "duration": 1150,
    "start_time": "2021-11-16T09:21:29.568Z"
   },
   {
    "duration": 3,
    "start_time": "2021-11-16T09:24:14.495Z"
   },
   {
    "duration": 120,
    "start_time": "2021-11-16T09:24:46.630Z"
   },
   {
    "duration": 3,
    "start_time": "2021-11-16T09:28:27.882Z"
   },
   {
    "duration": 4,
    "start_time": "2021-11-16T09:29:54.281Z"
   },
   {
    "duration": 3,
    "start_time": "2021-11-16T09:30:45.936Z"
   },
   {
    "duration": 4,
    "start_time": "2021-11-16T09:31:06.300Z"
   },
   {
    "duration": 113,
    "start_time": "2021-11-16T09:31:37.208Z"
   },
   {
    "duration": 143,
    "start_time": "2021-11-16T09:31:48.656Z"
   },
   {
    "duration": 98,
    "start_time": "2021-11-16T09:31:55.678Z"
   },
   {
    "duration": 3,
    "start_time": "2021-11-16T09:32:08.535Z"
   },
   {
    "duration": 111,
    "start_time": "2021-11-16T09:32:10.120Z"
   },
   {
    "duration": 3,
    "start_time": "2021-11-16T09:32:15.732Z"
   },
   {
    "duration": 4,
    "start_time": "2021-11-16T09:32:29.423Z"
   },
   {
    "duration": 3,
    "start_time": "2021-11-16T10:03:03.074Z"
   },
   {
    "duration": 3,
    "start_time": "2021-11-16T10:10:01.288Z"
   },
   {
    "duration": 3,
    "start_time": "2021-11-16T10:10:46.923Z"
   },
   {
    "duration": 121,
    "start_time": "2021-11-16T10:37:46.494Z"
   },
   {
    "duration": 125,
    "start_time": "2021-11-16T10:38:20.632Z"
   },
   {
    "duration": 112,
    "start_time": "2021-11-16T10:46:53.001Z"
   },
   {
    "duration": 110,
    "start_time": "2021-11-16T10:48:25.775Z"
   },
   {
    "duration": 3,
    "start_time": "2021-11-16T10:50:18.720Z"
   },
   {
    "duration": 4,
    "start_time": "2021-11-16T10:50:37.649Z"
   },
   {
    "duration": 2,
    "start_time": "2021-11-16T10:50:51.884Z"
   },
   {
    "duration": 3,
    "start_time": "2021-11-16T10:51:56.237Z"
   },
   {
    "duration": 101,
    "start_time": "2021-11-16T10:53:13.791Z"
   },
   {
    "duration": 3,
    "start_time": "2021-11-16T10:55:59.186Z"
   },
   {
    "duration": 3,
    "start_time": "2021-11-16T10:56:10.751Z"
   },
   {
    "duration": 3,
    "start_time": "2021-11-16T10:56:49.038Z"
   },
   {
    "duration": 3,
    "start_time": "2021-11-16T10:56:49.174Z"
   },
   {
    "duration": 4,
    "start_time": "2021-11-16T10:56:49.414Z"
   },
   {
    "duration": 3,
    "start_time": "2021-11-16T10:56:49.680Z"
   },
   {
    "duration": 3,
    "start_time": "2021-11-16T10:56:50.370Z"
   },
   {
    "duration": 114,
    "start_time": "2021-11-16T10:59:34.518Z"
   },
   {
    "duration": 3,
    "start_time": "2021-11-16T11:01:41.201Z"
   },
   {
    "duration": 116,
    "start_time": "2021-11-16T11:01:48.754Z"
   },
   {
    "duration": 3,
    "start_time": "2021-11-16T11:02:16.685Z"
   },
   {
    "duration": 3,
    "start_time": "2021-11-16T11:02:19.479Z"
   },
   {
    "duration": 3,
    "start_time": "2021-11-16T11:02:47.067Z"
   },
   {
    "duration": 3,
    "start_time": "2021-11-16T11:02:49.353Z"
   },
   {
    "duration": 3,
    "start_time": "2021-11-16T11:03:07.835Z"
   },
   {
    "duration": 3,
    "start_time": "2021-11-16T11:03:07.953Z"
   },
   {
    "duration": 112,
    "start_time": "2021-11-16T11:07:52.072Z"
   },
   {
    "duration": 187,
    "start_time": "2021-11-16T11:09:23.468Z"
   },
   {
    "duration": 4,
    "start_time": "2021-11-16T11:10:01.455Z"
   },
   {
    "duration": 3,
    "start_time": "2021-11-16T11:10:05.069Z"
   },
   {
    "duration": 4,
    "start_time": "2021-11-16T11:10:13.376Z"
   },
   {
    "duration": 3,
    "start_time": "2021-11-16T11:10:14.434Z"
   },
   {
    "duration": 3,
    "start_time": "2021-11-16T11:10:22.853Z"
   },
   {
    "duration": 4,
    "start_time": "2021-11-16T11:27:29.279Z"
   },
   {
    "duration": 4,
    "start_time": "2021-11-16T11:29:08.919Z"
   },
   {
    "duration": 118,
    "start_time": "2021-11-16T11:29:46.703Z"
   },
   {
    "duration": 437,
    "start_time": "2021-11-16T11:36:02.181Z"
   },
   {
    "duration": 157,
    "start_time": "2021-11-16T11:36:14.388Z"
   },
   {
    "duration": 207,
    "start_time": "2021-11-16T11:47:15.898Z"
   },
   {
    "duration": 3,
    "start_time": "2021-11-16T11:53:52.092Z"
   },
   {
    "duration": 3,
    "start_time": "2021-11-16T11:53:52.236Z"
   },
   {
    "duration": 3,
    "start_time": "2021-11-16T11:59:12.005Z"
   },
   {
    "duration": 112,
    "start_time": "2021-11-16T12:00:33.446Z"
   },
   {
    "duration": 3,
    "start_time": "2021-11-16T12:02:14.453Z"
   },
   {
    "duration": 3,
    "start_time": "2021-11-16T12:02:39.512Z"
   },
   {
    "duration": 106,
    "start_time": "2021-11-16T12:03:03.460Z"
   },
   {
    "duration": 3,
    "start_time": "2021-11-17T20:37:21.139Z"
   },
   {
    "duration": 3,
    "start_time": "2021-11-17T20:37:22.229Z"
   },
   {
    "duration": 3,
    "start_time": "2021-11-17T20:38:38.806Z"
   },
   {
    "duration": 3,
    "start_time": "2021-11-17T20:38:41.958Z"
   },
   {
    "duration": 3,
    "start_time": "2021-11-17T20:43:46.551Z"
   },
   {
    "duration": 4,
    "start_time": "2021-11-17T20:58:21.835Z"
   },
   {
    "duration": 3,
    "start_time": "2021-11-17T20:59:21.872Z"
   },
   {
    "duration": 4,
    "start_time": "2021-11-17T20:59:45.352Z"
   },
   {
    "duration": 4,
    "start_time": "2021-11-17T20:59:49.646Z"
   },
   {
    "duration": 159,
    "start_time": "2021-11-17T21:02:26.949Z"
   },
   {
    "duration": 3,
    "start_time": "2021-11-17T21:03:53.461Z"
   },
   {
    "duration": 3,
    "start_time": "2021-11-17T21:03:53.694Z"
   },
   {
    "duration": 3,
    "start_time": "2021-11-17T21:05:28.145Z"
   },
   {
    "duration": 116,
    "start_time": "2021-11-17T21:05:57.787Z"
   },
   {
    "duration": 3,
    "start_time": "2021-11-17T21:06:37.993Z"
   },
   {
    "duration": 3,
    "start_time": "2021-11-17T21:06:38.261Z"
   },
   {
    "duration": 3,
    "start_time": "2021-11-17T21:11:54.358Z"
   },
   {
    "duration": 3,
    "start_time": "2021-11-17T21:12:43.846Z"
   },
   {
    "duration": 4,
    "start_time": "2021-11-17T21:13:08.773Z"
   },
   {
    "duration": 3,
    "start_time": "2021-11-17T21:14:44.441Z"
   },
   {
    "duration": 3,
    "start_time": "2021-11-17T21:15:42.059Z"
   },
   {
    "duration": 4,
    "start_time": "2021-11-17T21:15:51.995Z"
   },
   {
    "duration": 3,
    "start_time": "2021-11-17T21:15:53.923Z"
   },
   {
    "duration": 3,
    "start_time": "2021-11-17T21:15:55.282Z"
   },
   {
    "duration": 3,
    "start_time": "2021-11-17T21:16:28.492Z"
   },
   {
    "duration": 3,
    "start_time": "2021-11-17T21:16:32.603Z"
   },
   {
    "duration": 3,
    "start_time": "2021-11-17T21:17:06.941Z"
   },
   {
    "duration": 98,
    "start_time": "2021-11-17T21:18:05.733Z"
   },
   {
    "duration": 4,
    "start_time": "2021-11-17T21:21:35.255Z"
   },
   {
    "duration": 3,
    "start_time": "2021-11-17T21:21:37.804Z"
   },
   {
    "duration": 4,
    "start_time": "2021-11-17T21:23:06.071Z"
   },
   {
    "duration": 3,
    "start_time": "2021-11-17T21:23:24.799Z"
   },
   {
    "duration": 3,
    "start_time": "2021-11-17T21:23:32.591Z"
   },
   {
    "duration": 98,
    "start_time": "2021-11-17T21:28:31.559Z"
   },
   {
    "duration": 3,
    "start_time": "2021-11-17T21:28:45.448Z"
   },
   {
    "duration": 3,
    "start_time": "2021-11-17T21:29:17.303Z"
   },
   {
    "duration": 3,
    "start_time": "2021-11-17T21:29:29.617Z"
   },
   {
    "duration": 3,
    "start_time": "2021-11-17T21:29:32.681Z"
   },
   {
    "duration": 3,
    "start_time": "2021-11-17T21:36:11.474Z"
   },
   {
    "duration": 3,
    "start_time": "2021-11-17T21:36:14.791Z"
   },
   {
    "duration": 3,
    "start_time": "2021-11-17T21:36:53.943Z"
   },
   {
    "duration": 3,
    "start_time": "2021-11-17T21:36:56.165Z"
   },
   {
    "duration": 4,
    "start_time": "2021-11-17T21:37:16.590Z"
   },
   {
    "duration": 3,
    "start_time": "2021-11-17T21:37:22.702Z"
   },
   {
    "duration": 4,
    "start_time": "2021-11-17T21:38:03.479Z"
   },
   {
    "duration": 3,
    "start_time": "2021-11-17T21:38:08.601Z"
   },
   {
    "duration": 3,
    "start_time": "2021-11-17T21:38:12.928Z"
   },
   {
    "duration": 3,
    "start_time": "2021-11-17T21:38:48.896Z"
   },
   {
    "duration": 2,
    "start_time": "2021-11-17T21:38:49.171Z"
   },
   {
    "duration": 4,
    "start_time": "2021-11-17T21:39:57.889Z"
   },
   {
    "duration": 3,
    "start_time": "2021-11-17T21:39:58.057Z"
   },
   {
    "duration": 3,
    "start_time": "2021-11-17T21:41:20.108Z"
   },
   {
    "duration": 3,
    "start_time": "2021-11-17T21:41:20.629Z"
   },
   {
    "duration": 3,
    "start_time": "2021-11-17T21:42:49.136Z"
   },
   {
    "duration": 3,
    "start_time": "2021-11-17T21:43:15.137Z"
   },
   {
    "duration": 4,
    "start_time": "2021-11-17T21:43:16.766Z"
   },
   {
    "duration": 4,
    "start_time": "2021-11-17T21:43:31.711Z"
   },
   {
    "duration": 3,
    "start_time": "2021-11-17T21:43:36.312Z"
   },
   {
    "duration": 4,
    "start_time": "2021-11-17T21:45:08.825Z"
   },
   {
    "duration": 4,
    "start_time": "2021-11-17T21:45:10.119Z"
   },
   {
    "duration": 4,
    "start_time": "2021-11-17T21:45:13.748Z"
   },
   {
    "duration": 3,
    "start_time": "2021-11-17T21:45:22.219Z"
   },
   {
    "duration": 3,
    "start_time": "2021-11-17T21:45:33.412Z"
   },
   {
    "duration": 2,
    "start_time": "2021-11-17T21:46:01.885Z"
   },
   {
    "duration": 3,
    "start_time": "2021-11-17T21:46:03.628Z"
   },
   {
    "duration": 107,
    "start_time": "2021-11-17T21:47:32.512Z"
   },
   {
    "duration": 103,
    "start_time": "2021-11-17T21:50:36.243Z"
   },
   {
    "duration": 3,
    "start_time": "2021-11-18T06:28:31.440Z"
   },
   {
    "duration": 3,
    "start_time": "2021-11-18T06:29:00.168Z"
   },
   {
    "duration": 3,
    "start_time": "2021-11-18T06:31:27.008Z"
   },
   {
    "duration": 2,
    "start_time": "2021-11-18T06:35:34.288Z"
   },
   {
    "duration": 2,
    "start_time": "2021-11-18T06:38:04.527Z"
   }
  ],
  "kernelspec": {
   "display_name": "Python 3 (ipykernel)",
   "language": "python",
   "name": "python3"
  },
  "language_info": {
   "codemirror_mode": {
    "name": "ipython",
    "version": 3
   },
   "file_extension": ".py",
   "mimetype": "text/x-python",
   "name": "python",
   "nbconvert_exporter": "python",
   "pygments_lexer": "ipython3",
   "version": "3.11.5"
  },
  "toc": {
   "base_numbering": 1,
   "nav_menu": {},
   "number_sections": true,
   "sideBar": true,
   "skip_h1_title": false,
   "title_cell": "Table of Contents",
   "title_sidebar": "Contents",
   "toc_cell": false,
   "toc_position": {
    "height": "calc(100% - 180px)",
    "left": "10px",
    "top": "150px",
    "width": "368px"
   },
   "toc_section_display": true,
   "toc_window_display": true
  }
 },
 "nbformat": 4,
 "nbformat_minor": 2
}
